{
  "nbformat": 4,
  "nbformat_minor": 0,
  "metadata": {
    "colab": {
      "provenance": []
    },
    "kernelspec": {
      "name": "python3",
      "display_name": "Python 3"
    },
    "language_info": {
      "name": "python"
    }
  },
  "cells": [
    {
      "cell_type": "code",
      "execution_count": 58,
      "metadata": {
        "id": "y6ABNC4WsQcI"
      },
      "outputs": [],
      "source": [
        "import tensorflow as tf"
      ]
    },
    {
      "cell_type": "code",
      "source": [
        "tf.__version__"
      ],
      "metadata": {
        "colab": {
          "base_uri": "https://localhost:8080/",
          "height": 36
        },
        "id": "hKvUw6ZQse47",
        "outputId": "3f63598f-f180-4b6a-a4f4-4bd23b3a1150"
      },
      "execution_count": 59,
      "outputs": [
        {
          "output_type": "execute_result",
          "data": {
            "text/plain": [
              "'2.15.0'"
            ],
            "application/vnd.google.colaboratory.intrinsic+json": {
              "type": "string"
            }
          },
          "metadata": {},
          "execution_count": 59
        }
      ]
    },
    {
      "cell_type": "code",
      "source": [
        "scalar = tf.constant(7)\n",
        "print(scalar)\n",
        "print(scalar.ndim) #number of dimensions"
      ],
      "metadata": {
        "colab": {
          "base_uri": "https://localhost:8080/",
          "height": 0
        },
        "id": "YPt3tnkPskYg",
        "outputId": "71eb160d-dd3b-4701-8e8c-6940b712d6ba"
      },
      "execution_count": 60,
      "outputs": [
        {
          "output_type": "stream",
          "name": "stdout",
          "text": [
            "tf.Tensor(7, shape=(), dtype=int32)\n",
            "0\n"
          ]
        }
      ]
    },
    {
      "cell_type": "code",
      "source": [
        "vector = tf.constant([26,12])\n",
        "print(vector)\n",
        "print(vector.ndim) #number of dimensions"
      ],
      "metadata": {
        "colab": {
          "base_uri": "https://localhost:8080/",
          "height": 0
        },
        "id": "IvW22PQis5X7",
        "outputId": "18e78b6c-72ca-4e6f-bc61-dad4639fcf31"
      },
      "execution_count": 61,
      "outputs": [
        {
          "output_type": "stream",
          "name": "stdout",
          "text": [
            "tf.Tensor([26 12], shape=(2,), dtype=int32)\n",
            "1\n"
          ]
        }
      ]
    },
    {
      "cell_type": "code",
      "source": [
        "matrix = tf.constant([[26,12],[9,11]])\n",
        "print(matrix)\n",
        "print(matrix.ndim) #number of dimensions"
      ],
      "metadata": {
        "colab": {
          "base_uri": "https://localhost:8080/",
          "height": 0
        },
        "id": "WfLXMQ3btB0O",
        "outputId": "fcd8bd43-4ba2-4f74-d1a7-6780562876d9"
      },
      "execution_count": 62,
      "outputs": [
        {
          "output_type": "stream",
          "name": "stdout",
          "text": [
            "tf.Tensor(\n",
            "[[26 12]\n",
            " [ 9 11]], shape=(2, 2), dtype=int32)\n",
            "2\n"
          ]
        }
      ]
    },
    {
      "cell_type": "code",
      "source": [
        "matrix = tf.constant([[26,12],[9,11]],dtype =tf.float16) #chnaging dtype\n",
        "print(matrix)\n",
        "print(matrix.ndim) #number of dimensions"
      ],
      "metadata": {
        "colab": {
          "base_uri": "https://localhost:8080/",
          "height": 0
        },
        "id": "E3FZ693AttTH",
        "outputId": "8285af29-57f0-4c33-94b6-bbe23e3aaa41"
      },
      "execution_count": 63,
      "outputs": [
        {
          "output_type": "stream",
          "name": "stdout",
          "text": [
            "tf.Tensor(\n",
            "[[26. 12.]\n",
            " [ 9. 11.]], shape=(2, 2), dtype=float16)\n",
            "2\n"
          ]
        }
      ]
    },
    {
      "cell_type": "markdown",
      "source": [
        "# tf.Variable()"
      ],
      "metadata": {
        "id": "nQhzsm_Vv_dR"
      }
    },
    {
      "cell_type": "code",
      "source": [
        "changeable_tensor = tf.Variable([13, 34])\n",
        "unchanageble = tf.constant([12,26])"
      ],
      "metadata": {
        "id": "ueXL9-lpuRsd"
      },
      "execution_count": 64,
      "outputs": []
    },
    {
      "cell_type": "code",
      "source": [
        "print(changeable_tensor)"
      ],
      "metadata": {
        "colab": {
          "base_uri": "https://localhost:8080/",
          "height": 0
        },
        "id": "PxysyHBgx7Q3",
        "outputId": "b403602d-e0bb-4b5c-c21a-a72dc1dceda1"
      },
      "execution_count": 65,
      "outputs": [
        {
          "output_type": "stream",
          "name": "stdout",
          "text": [
            "<tf.Variable 'Variable:0' shape=(2,) dtype=int32, numpy=array([13, 34], dtype=int32)>\n"
          ]
        }
      ]
    },
    {
      "cell_type": "code",
      "source": [
        "# changeable_tensor.append([12,26]) ..........NO append works for this instead use assign\n",
        "# print(changeable_tensor)"
      ],
      "metadata": {
        "id": "6y4vIy2cx_YF"
      },
      "execution_count": 66,
      "outputs": []
    },
    {
      "cell_type": "code",
      "source": [
        "# Now you can use .assign()\n",
        "changeable_tensor[0].assign(12,67)\n",
        "print(changeable_tensor)\n",
        "\n",
        "# We can use assign() on unchanagable tensors or constants which are specially designed to keep the tensor value consistent"
      ],
      "metadata": {
        "colab": {
          "base_uri": "https://localhost:8080/",
          "height": 0
        },
        "id": "uLbD7b4YyBUr",
        "outputId": "7bf01d99-ac7d-4863-c2d8-ece4d771f0fe"
      },
      "execution_count": 67,
      "outputs": [
        {
          "output_type": "stream",
          "name": "stdout",
          "text": [
            "<tf.Variable 'Variable:0' shape=(2,) dtype=int32, numpy=array([12, 34], dtype=int32)>\n"
          ]
        }
      ]
    },
    {
      "cell_type": "markdown",
      "source": [
        "### Random Tensor"
      ],
      "metadata": {
        "id": "KF5dfq2TYD5v"
      }
    },
    {
      "cell_type": "code",
      "source": [
        "random = tf.random.Generator.from_seed(8)\n",
        "random =random.normal(shape=(10,20)) # distributions can be normal , uniform\n",
        "print(random)"
      ],
      "metadata": {
        "id": "M2zwxOBe0FbG",
        "colab": {
          "base_uri": "https://localhost:8080/",
          "height": 0
        },
        "outputId": "93de76ab-1f1c-42a3-ff01-8d7b4106c28e"
      },
      "execution_count": 68,
      "outputs": [
        {
          "output_type": "stream",
          "name": "stdout",
          "text": [
            "tf.Tensor(\n",
            "[[ 0.69211644  0.84215707 -0.06378496  0.92800784 -0.6039789  -0.1766927\n",
            "   0.04221033  0.29037967 -0.29604465 -0.21134205  0.01063002  1.5165398\n",
            "   0.27305737 -0.29925638 -0.3652325   0.61883307 -1.0130816   0.28291714\n",
            "   1.2132233   0.46988967]\n",
            " [ 0.37944323 -0.6664026   0.6054596   0.19181173  0.8045827   0.4769051\n",
            "  -0.7812124  -0.996891    0.33149973 -0.5445254   1.5222508   0.59303206\n",
            "  -0.63509274  0.3703566  -1.0939722  -0.4601445   1.5420506  -0.16822556\n",
            "  -0.4390865  -0.4129243 ]\n",
            " [ 0.35877243 -1.9095894  -0.2094769   0.8286217  -0.06695071 -0.35105535\n",
            "   1.0884082  -1.3863064   0.88051325 -1.6833194   0.86754173 -0.19625713\n",
            "  -1.322665   -0.02279496 -0.1383193   0.44207528 -0.7531523   2.0261486\n",
            "  -0.06997604  0.85445154]\n",
            " [ 0.1175475   0.03493892 -1.5700307   0.4457582   0.10944034 -0.8035768\n",
            "  -1.7166729   0.3738578  -0.14371012 -0.34646833  1.1456194  -0.416\n",
            "   0.43369916  1.0241015  -0.74785167 -0.59090924 -1.2060374   0.8307429\n",
            "   1.0951619   1.3672234 ]\n",
            " [-0.54532146  1.9302735  -0.3151453  -0.8761205  -2.7316678  -0.15730922\n",
            "   1.3692921  -0.4367834   0.8357487   0.20849545  1.4040174  -2.735283\n",
            "   1.2232229  -1.8653691   0.00511209 -1.0493753   0.7901182   1.585549\n",
            "   0.4356279   0.2364518 ]\n",
            " [-0.1589871   1.302304    0.9592239   0.85874265 -1.5181769   1.4020647\n",
            "   1.5570306  -0.96762174  0.495291   -0.648484   -1.8700892   2.7830641\n",
            "  -0.645002    0.18022095 -0.14656258  0.34374258  0.41367555  0.17573498\n",
            "  -1.0871261   0.45905176]\n",
            " [ 0.20386009  0.562024   -2.3001142  -1.349454    0.81485     1.2790666\n",
            "   0.02203509  1.5428121   0.78953624  0.53897345 -0.48535708  0.74055266\n",
            "   0.31662667 -1.4391748   0.58923835 -1.4268045  -0.7565803  -0.06854702\n",
            "   0.07595026 -1.2573844 ]\n",
            " [-0.23193763 -1.8107855   0.09988727 -0.50998646 -0.7535805  -0.57166284\n",
            "   0.1480774  -0.23362993 -0.3522796   0.40621263 -1.0523509   1.2054597\n",
            "   1.6874489  -0.4462975  -2.3410842   0.99009085 -0.0876323  -0.635568\n",
            "  -0.6161736  -1.9441465 ]\n",
            " [-0.48293006 -0.52447474 -1.0345329   1.3066901  -1.5184573  -0.4585211\n",
            "   0.5714663  -1.5331722   0.45331386  1.1487608  -1.2659091  -0.47450137\n",
            "   2.006022    0.28288034 -0.30288252 -1.443651    1.0034493   0.20857747\n",
            "   0.35700995  1.0648885 ]\n",
            " [ 1.2432485  -2.2173238   0.18706243  0.6617961   0.01380118 -0.24827152\n",
            "   1.2111493  -0.7199124  -0.04082382  2.6791053   1.0914806   0.33149615\n",
            "  -0.67958915  0.44723678 -0.17811584  0.24882518  0.49689844  0.8259971\n",
            "   1.0340209  -0.24918638]], shape=(10, 20), dtype=float32)\n"
          ]
        }
      ]
    },
    {
      "cell_type": "code",
      "source": [
        "random1 = tf.random.Generator.from_seed(8)\n",
        "random1 =random1.uniform(shape=(10,20)) # distributions can be normal , uniform\n",
        "print(random1)"
      ],
      "metadata": {
        "colab": {
          "base_uri": "https://localhost:8080/",
          "height": 0
        },
        "id": "xxfc1uMib6Km",
        "outputId": "5fa9e2ea-6ad5-44ae-fc71-b4d153212a18"
      },
      "execution_count": 69,
      "outputs": [
        {
          "output_type": "stream",
          "name": "stdout",
          "text": [
            "tf.Tensor(\n",
            "[[0.5520444  0.10948515 0.6487982  0.9890779  0.8203654  0.70470357\n",
            "  0.9578625  0.02297425 0.93598676 0.6513264  0.31663585 0.00111556\n",
            "  0.9212191  0.3822806  0.77246034 0.91514194 0.5751133  0.793342\n",
            "  0.4289763  0.19118965]\n",
            " [0.7452506  0.41762006 0.8173511  0.20117116 0.6457157  0.16484237\n",
            "  0.4484123  0.6057888  0.816115   0.4129653  0.2632984  0.19087589\n",
            "  0.7631861  0.8340243  0.49447727 0.6866319  0.300259   0.26729417\n",
            "  0.83389175 0.62988555]\n",
            " [0.15143108 0.47044265 0.69402504 0.9605911  0.93813527 0.5299927\n",
            "  0.21156156 0.3940668  0.16456759 0.42329657 0.6732943  0.28540838\n",
            "  0.41686988 0.74725735 0.8982729  0.95173836 0.09668875 0.94335854\n",
            "  0.6924689  0.98699486]\n",
            " [0.9925091  0.20401764 0.26398885 0.79402816 0.71974635 0.47845697\n",
            "  0.21366036 0.78412795 0.93207085 0.5625777  0.47580373 0.30543637\n",
            "  0.5387846  0.06375635 0.634938   0.6435729  0.3422103  0.8459996\n",
            "  0.21559799 0.10748649]\n",
            " [0.1337657  0.95617914 0.6482675  0.55495536 0.02367401 0.74084485\n",
            "  0.35598373 0.29914415 0.6900625  0.21108961 0.00885725 0.42452395\n",
            "  0.08308113 0.40762496 0.5765996  0.49922466 0.20822704 0.07357836\n",
            "  0.88440466 0.17085445]\n",
            " [0.42289293 0.9806658  0.43658388 0.13378775 0.11820638 0.8686751\n",
            "  0.1863147  0.33849728 0.71682584 0.39619052 0.00361979 0.9058354\n",
            "  0.79911244 0.7933638  0.9325619  0.93585527 0.9039284  0.18606544\n",
            "  0.4984331  0.81359017]\n",
            " [0.83634424 0.05538046 0.02855921 0.6655563  0.3166381  0.09027731\n",
            "  0.30410647 0.00227296 0.6332247  0.15466881 0.6757076  0.90766454\n",
            "  0.33765244 0.4655341  0.30376935 0.43766797 0.7493447  0.73561966\n",
            "  0.45230794 0.49039817]\n",
            " [0.1889317  0.52027524 0.8736881  0.46921718 0.63932586 0.6467117\n",
            "  0.96246755 0.41009164 0.86540747 0.8862978  0.27795732 0.8857763\n",
            "  0.2179842  0.29115117 0.03953862 0.8136791  0.8139852  0.52180684\n",
            "  0.12496924 0.5488483 ]\n",
            " [0.7755773  0.6184403  0.24936223 0.89341843 0.28422844 0.70332646\n",
            "  0.2622137  0.4432162  0.466465   0.05981874 0.40098202 0.69292355\n",
            "  0.1284684  0.22770369 0.33691216 0.5329138  0.5914326  0.21738243\n",
            "  0.5322075  0.05148339]\n",
            " [0.03951418 0.41866875 0.78939915 0.04384279 0.96955836 0.49116182\n",
            "  0.3706199  0.33535397 0.02760839 0.99757504 0.52172756 0.20307171\n",
            "  0.7182547  0.84263575 0.9542595  0.90112185 0.62839293 0.08619452\n",
            "  0.5679928  0.28763676]], shape=(10, 20), dtype=float32)\n"
          ]
        }
      ]
    },
    {
      "cell_type": "code",
      "source": [
        "random == random1"
      ],
      "metadata": {
        "colab": {
          "base_uri": "https://localhost:8080/",
          "height": 0
        },
        "id": "NXPRAxqbcB84",
        "outputId": "c5c33266-a84b-4262-d888-844dd2dba998"
      },
      "execution_count": 70,
      "outputs": [
        {
          "output_type": "execute_result",
          "data": {
            "text/plain": [
              "<tf.Tensor: shape=(10, 20), dtype=bool, numpy=\n",
              "array([[False, False, False, False, False, False, False, False, False,\n",
              "        False, False, False, False, False, False, False, False, False,\n",
              "        False, False],\n",
              "       [False, False, False, False, False, False, False, False, False,\n",
              "        False, False, False, False, False, False, False, False, False,\n",
              "        False, False],\n",
              "       [False, False, False, False, False, False, False, False, False,\n",
              "        False, False, False, False, False, False, False, False, False,\n",
              "        False, False],\n",
              "       [False, False, False, False, False, False, False, False, False,\n",
              "        False, False, False, False, False, False, False, False, False,\n",
              "        False, False],\n",
              "       [False, False, False, False, False, False, False, False, False,\n",
              "        False, False, False, False, False, False, False, False, False,\n",
              "        False, False],\n",
              "       [False, False, False, False, False, False, False, False, False,\n",
              "        False, False, False, False, False, False, False, False, False,\n",
              "        False, False],\n",
              "       [False, False, False, False, False, False, False, False, False,\n",
              "        False, False, False, False, False, False, False, False, False,\n",
              "        False, False],\n",
              "       [False, False, False, False, False, False, False, False, False,\n",
              "        False, False, False, False, False, False, False, False, False,\n",
              "        False, False],\n",
              "       [False, False, False, False, False, False, False, False, False,\n",
              "        False, False, False, False, False, False, False, False, False,\n",
              "        False, False],\n",
              "       [False, False, False, False, False, False, False, False, False,\n",
              "        False, False, False, False, False, False, False, False, False,\n",
              "        False, False]])>"
            ]
          },
          "metadata": {},
          "execution_count": 70
        }
      ]
    },
    {
      "cell_type": "markdown",
      "source": [
        "# Shuffling the tensors"
      ],
      "metadata": {
        "id": "LFvWcpWtc0db"
      }
    },
    {
      "cell_type": "code",
      "source": [
        "x = tf.constant([[10,11,12],[13,14,15],\n",
        "                [16,17,18]])"
      ],
      "metadata": {
        "id": "lqoSdqznctfA"
      },
      "execution_count": 71,
      "outputs": []
    },
    {
      "cell_type": "code",
      "source": [
        "tf.random.set_seed(50) # golabl level seed\n",
        "tf.random.shuffle(x,seed=20) #operational level seed can be set yet gives diffrent results if the global seed is not mentioned ....it is default\n"
      ],
      "metadata": {
        "colab": {
          "base_uri": "https://localhost:8080/",
          "height": 0
        },
        "id": "HqyoqSwh1IZM",
        "outputId": "6940a422-4e30-4f98-ff07-d0b30bcd9be4"
      },
      "execution_count": 72,
      "outputs": [
        {
          "output_type": "execute_result",
          "data": {
            "text/plain": [
              "<tf.Tensor: shape=(3, 3), dtype=int32, numpy=\n",
              "array([[10, 11, 12],\n",
              "       [16, 17, 18],\n",
              "       [13, 14, 15]], dtype=int32)>"
            ]
          },
          "metadata": {},
          "execution_count": 72
        }
      ]
    },
    {
      "cell_type": "markdown",
      "source": [
        ">tf.random.set_seed(42): Sets the global random seed, making the overall random operations in TensorFlow deterministic.\n",
        "\n",
        ">tf.random.shuffle(x, seed=45): Sets the operation-specific seed, making this particular shuffle operation deterministic given the global seed.\n",
        "\n",
        "> Both seeds are required to ensure that the shuffle operation produces the same result every time you run your script."
      ],
      "metadata": {
        "id": "yeL-wZOnG9bw"
      }
    },
    {
      "cell_type": "code",
      "source": [
        "x = tf.ones(shape=(10,3))"
      ],
      "metadata": {
        "id": "CtP4kHaO1dAA"
      },
      "execution_count": 73,
      "outputs": []
    },
    {
      "cell_type": "code",
      "source": [
        "tf.zeros(shape=(10,3))"
      ],
      "metadata": {
        "colab": {
          "base_uri": "https://localhost:8080/",
          "height": 0
        },
        "id": "LjIyCYt6Hkk-",
        "outputId": "6c47da96-461f-424e-ce64-9959b5426bdb"
      },
      "execution_count": 74,
      "outputs": [
        {
          "output_type": "execute_result",
          "data": {
            "text/plain": [
              "<tf.Tensor: shape=(10, 3), dtype=float32, numpy=\n",
              "array([[0., 0., 0.],\n",
              "       [0., 0., 0.],\n",
              "       [0., 0., 0.],\n",
              "       [0., 0., 0.],\n",
              "       [0., 0., 0.],\n",
              "       [0., 0., 0.],\n",
              "       [0., 0., 0.],\n",
              "       [0., 0., 0.],\n",
              "       [0., 0., 0.],\n",
              "       [0., 0., 0.]], dtype=float32)>"
            ]
          },
          "metadata": {},
          "execution_count": 74
        }
      ]
    },
    {
      "cell_type": "markdown",
      "source": [
        "# using numpy\n"
      ],
      "metadata": {
        "id": "Lhr0WfGzJH4m"
      }
    },
    {
      "cell_type": "code",
      "source": [
        "import numpy as np\n",
        "arr = np.arange(1,25,dtype=np.float16) # default is np.int32"
      ],
      "metadata": {
        "id": "OOpJJZQdHpnN"
      },
      "execution_count": 75,
      "outputs": []
    },
    {
      "cell_type": "code",
      "source": [
        "a = tf.constant(value = arr,shape=(2,3,4))\n",
        "b = tf.constant(value = arr)\n",
        "a,b"
      ],
      "metadata": {
        "colab": {
          "base_uri": "https://localhost:8080/",
          "height": 0
        },
        "id": "li7osCmTJPiF",
        "outputId": "f58d48e2-0c5e-448a-b138-10d2385a8897"
      },
      "execution_count": 76,
      "outputs": [
        {
          "output_type": "execute_result",
          "data": {
            "text/plain": [
              "(<tf.Tensor: shape=(2, 3, 4), dtype=float16, numpy=\n",
              " array([[[ 1.,  2.,  3.,  4.],\n",
              "         [ 5.,  6.,  7.,  8.],\n",
              "         [ 9., 10., 11., 12.]],\n",
              " \n",
              "        [[13., 14., 15., 16.],\n",
              "         [17., 18., 19., 20.],\n",
              "         [21., 22., 23., 24.]]], dtype=float16)>,\n",
              " <tf.Tensor: shape=(24,), dtype=float16, numpy=\n",
              " array([ 1.,  2.,  3.,  4.,  5.,  6.,  7.,  8.,  9., 10., 11., 12., 13.,\n",
              "        14., 15., 16., 17., 18., 19., 20., 21., 22., 23., 24.],\n",
              "       dtype=float16)>)"
            ]
          },
          "metadata": {},
          "execution_count": 76
        }
      ]
    },
    {
      "cell_type": "code",
      "source": [
        "def describe(x):\n",
        "  print(\"Shape :\",x.shape)\n",
        "  print(\"Datatype of each element : \",x.dtype)\n",
        "  print(\"Dimensions of the element : \",x.ndim)\n",
        "  print(\"First axis Element : \",x[0])\n",
        "  print(\"Last axis Element : \",x[-1])\n",
        "  print(\"Total elements : \", tf.size(x))"
      ],
      "metadata": {
        "id": "c42McWJ6L93B"
      },
      "execution_count": 77,
      "outputs": []
    },
    {
      "cell_type": "code",
      "source": [
        "z = tf.zeros(shape=(2,3,4,5))\n",
        "describe(z)"
      ],
      "metadata": {
        "colab": {
          "base_uri": "https://localhost:8080/",
          "height": 0
        },
        "id": "LSQJXaNYJ-sV",
        "outputId": "f830a8c5-774d-4f79-b749-fd8b77093712"
      },
      "execution_count": 78,
      "outputs": [
        {
          "output_type": "stream",
          "name": "stdout",
          "text": [
            "Shape : (2, 3, 4, 5)\n",
            "Datatype of each element :  <dtype: 'float32'>\n",
            "Dimensions of the element :  4\n",
            "First axis Element :  tf.Tensor(\n",
            "[[[0. 0. 0. 0. 0.]\n",
            "  [0. 0. 0. 0. 0.]\n",
            "  [0. 0. 0. 0. 0.]\n",
            "  [0. 0. 0. 0. 0.]]\n",
            "\n",
            " [[0. 0. 0. 0. 0.]\n",
            "  [0. 0. 0. 0. 0.]\n",
            "  [0. 0. 0. 0. 0.]\n",
            "  [0. 0. 0. 0. 0.]]\n",
            "\n",
            " [[0. 0. 0. 0. 0.]\n",
            "  [0. 0. 0. 0. 0.]\n",
            "  [0. 0. 0. 0. 0.]\n",
            "  [0. 0. 0. 0. 0.]]], shape=(3, 4, 5), dtype=float32)\n",
            "Last axis Element :  tf.Tensor(\n",
            "[[[0. 0. 0. 0. 0.]\n",
            "  [0. 0. 0. 0. 0.]\n",
            "  [0. 0. 0. 0. 0.]\n",
            "  [0. 0. 0. 0. 0.]]\n",
            "\n",
            " [[0. 0. 0. 0. 0.]\n",
            "  [0. 0. 0. 0. 0.]\n",
            "  [0. 0. 0. 0. 0.]\n",
            "  [0. 0. 0. 0. 0.]]\n",
            "\n",
            " [[0. 0. 0. 0. 0.]\n",
            "  [0. 0. 0. 0. 0.]\n",
            "  [0. 0. 0. 0. 0.]\n",
            "  [0. 0. 0. 0. 0.]]], shape=(3, 4, 5), dtype=float32)\n",
            "Total elements :  tf.Tensor(120, shape=(), dtype=int32)\n"
          ]
        }
      ]
    },
    {
      "cell_type": "markdown",
      "source": [
        "INDEXING :"
      ],
      "metadata": {
        "id": "DSNyYw6qx9Zx"
      }
    },
    {
      "cell_type": "code",
      "source": [
        "print(z[:1,:1,:1,:1])\n",
        "print(z[:1,:1,:1,:])\n",
        "print(z[:1,:1,:,:1])\n",
        "print(z[:,:1,:2,:3])"
      ],
      "metadata": {
        "id": "hpeulOO6L7cp",
        "colab": {
          "base_uri": "https://localhost:8080/",
          "height": 0
        },
        "outputId": "70ab0f5e-8ca5-43d9-e6f6-4c0e80064a0a"
      },
      "execution_count": 79,
      "outputs": [
        {
          "output_type": "stream",
          "name": "stdout",
          "text": [
            "tf.Tensor([[[[0.]]]], shape=(1, 1, 1, 1), dtype=float32)\n",
            "tf.Tensor([[[[0. 0. 0. 0. 0.]]]], shape=(1, 1, 1, 5), dtype=float32)\n",
            "tf.Tensor(\n",
            "[[[[0.]\n",
            "   [0.]\n",
            "   [0.]\n",
            "   [0.]]]], shape=(1, 1, 4, 1), dtype=float32)\n",
            "tf.Tensor(\n",
            "[[[[0. 0. 0.]\n",
            "   [0. 0. 0.]]]\n",
            "\n",
            "\n",
            " [[[0. 0. 0.]\n",
            "   [0. 0. 0.]]]], shape=(2, 1, 2, 3), dtype=float32)\n"
          ]
        }
      ]
    },
    {
      "cell_type": "code",
      "source": [
        "x = tf.constant([[1,2],[3,4]])\n",
        "print(x.ndim)"
      ],
      "metadata": {
        "colab": {
          "base_uri": "https://localhost:8080/",
          "height": 0
        },
        "id": "4rG_ajrKxuuc",
        "outputId": "5aa9e4da-040e-4596-a9d5-4f8771810878"
      },
      "execution_count": 80,
      "outputs": [
        {
          "output_type": "stream",
          "name": "stdout",
          "text": [
            "2\n"
          ]
        }
      ]
    },
    {
      "cell_type": "code",
      "source": [
        "print(x)\n",
        "print(x[:,-1],\">>>>>>>>>\",x[-1,-1])#Last Element (DONT PUT COLON BEFORE THE -1)"
      ],
      "metadata": {
        "colab": {
          "base_uri": "https://localhost:8080/",
          "height": 0
        },
        "id": "YFetApZqzUZN",
        "outputId": "b74a16de-360d-4cc5-e4ed-ad4392df8a0a"
      },
      "execution_count": 81,
      "outputs": [
        {
          "output_type": "stream",
          "name": "stdout",
          "text": [
            "tf.Tensor(\n",
            "[[1 2]\n",
            " [3 4]], shape=(2, 2), dtype=int32)\n",
            "tf.Tensor([2 4], shape=(2,), dtype=int32) >>>>>>>>> tf.Tensor(4, shape=(), dtype=int32)\n"
          ]
        }
      ]
    },
    {
      "cell_type": "markdown",
      "source": [
        "# ADDING NEW DIMENSIONS IN A TENSOR"
      ],
      "metadata": {
        "id": "rDeyp6x30UNg"
      }
    },
    {
      "cell_type": "code",
      "source": [
        "y = x[:,tf.newaxis,:] # WE can use tf.new axis to add a dimension in between or at the end\n",
        "y = x[...,tf.newaxis] # we can use ... which indicates all the previous dimensions instead of typing <<<<<<<<<<<<<<:,:,:,:,>>>>>>>>>>>>>>>>\n",
        "print(y)"
      ],
      "metadata": {
        "colab": {
          "base_uri": "https://localhost:8080/",
          "height": 0
        },
        "id": "oc8oP9bSzYZp",
        "outputId": "880af733-f0ae-4d38-d309-e5c01688818c"
      },
      "execution_count": 82,
      "outputs": [
        {
          "output_type": "stream",
          "name": "stdout",
          "text": [
            "tf.Tensor(\n",
            "[[[1]\n",
            "  [2]]\n",
            "\n",
            " [[3]\n",
            "  [4]]], shape=(2, 2, 1), dtype=int32)\n"
          ]
        }
      ]
    },
    {
      "cell_type": "code",
      "source": [
        "# Alternative Way to add axis :\n",
        "tf.expand_dims(x,axis=-1)"
      ],
      "metadata": {
        "colab": {
          "base_uri": "https://localhost:8080/",
          "height": 0
        },
        "id": "z3rIPkns0ijn",
        "outputId": "5ff71d5d-c09a-40b4-ad35-bf36ec901ce5"
      },
      "execution_count": 83,
      "outputs": [
        {
          "output_type": "execute_result",
          "data": {
            "text/plain": [
              "<tf.Tensor: shape=(2, 2, 1), dtype=int32, numpy=\n",
              "array([[[1],\n",
              "        [2]],\n",
              "\n",
              "       [[3],\n",
              "        [4]]], dtype=int32)>"
            ]
          },
          "metadata": {},
          "execution_count": 83
        }
      ]
    },
    {
      "cell_type": "markdown",
      "source": [
        "## TESNSOR OPERATIONS\n"
      ],
      "metadata": {
        "id": "Hs0p6SmxFZic"
      }
    },
    {
      "cell_type": "markdown",
      "source": [
        "Basic : +,-,/,*"
      ],
      "metadata": {
        "id": "5-n_TL00F0xO"
      }
    },
    {
      "cell_type": "code",
      "source": [
        "x = x+10 # dont directly manipulate original tensor we need to assign\n",
        "print(x)\n",
        "x = x*10\n",
        "print(x)"
      ],
      "metadata": {
        "colab": {
          "base_uri": "https://localhost:8080/",
          "height": 0
        },
        "id": "W9iLYsLxFY95",
        "outputId": "fe68f3a3-e94b-4f6e-c261-91ab16317d5a"
      },
      "execution_count": 84,
      "outputs": [
        {
          "output_type": "stream",
          "name": "stdout",
          "text": [
            "tf.Tensor(\n",
            "[[11 12]\n",
            " [13 14]], shape=(2, 2), dtype=int32)\n",
            "tf.Tensor(\n",
            "[[110 120]\n",
            " [130 140]], shape=(2, 2), dtype=int32)\n"
          ]
        }
      ]
    },
    {
      "cell_type": "code",
      "source": [
        "tf.multiply(y,10) #inbuilt functions for faster manipulation"
      ],
      "metadata": {
        "colab": {
          "base_uri": "https://localhost:8080/",
          "height": 0
        },
        "id": "OYRWuvQ3F9OP",
        "outputId": "01fcb144-7317-4a1b-a616-03a398aa2499"
      },
      "execution_count": 85,
      "outputs": [
        {
          "output_type": "execute_result",
          "data": {
            "text/plain": [
              "<tf.Tensor: shape=(2, 2, 1), dtype=int32, numpy=\n",
              "array([[[10],\n",
              "        [20]],\n",
              "\n",
              "       [[30],\n",
              "        [40]]], dtype=int32)>"
            ]
          },
          "metadata": {},
          "execution_count": 85
        }
      ]
    },
    {
      "cell_type": "code",
      "source": [
        "tf.matmul(x,x) # Inbuilt function"
      ],
      "metadata": {
        "colab": {
          "base_uri": "https://localhost:8080/",
          "height": 0
        },
        "id": "tn0Es11GGq44",
        "outputId": "114ea56f-89d3-436a-e2a8-104e5f9b5531"
      },
      "execution_count": 86,
      "outputs": [
        {
          "output_type": "execute_result",
          "data": {
            "text/plain": [
              "<tf.Tensor: shape=(2, 2), dtype=int32, numpy=\n",
              "array([[27700, 30000],\n",
              "       [32500, 35200]], dtype=int32)>"
            ]
          },
          "metadata": {},
          "execution_count": 86
        }
      ]
    },
    {
      "cell_type": "code",
      "source": [
        "x@x #python operator"
      ],
      "metadata": {
        "colab": {
          "base_uri": "https://localhost:8080/",
          "height": 0
        },
        "id": "uhmi28t4XoLe",
        "outputId": "e5d236a5-637d-4a31-c8fb-40f22c4a7529"
      },
      "execution_count": 87,
      "outputs": [
        {
          "output_type": "execute_result",
          "data": {
            "text/plain": [
              "<tf.Tensor: shape=(2, 2), dtype=int32, numpy=\n",
              "array([[27700, 30000],\n",
              "       [32500, 35200]], dtype=int32)>"
            ]
          },
          "metadata": {},
          "execution_count": 87
        }
      ]
    },
    {
      "cell_type": "code",
      "source": [
        "y = tf.constant([[1,2,3],[4,5,6]])\n",
        "d = tf.constant([[7,8,9],[10,11,12]])\n",
        "print(y.shape,d.shape) # we can multiply as the shapes are asymmetric and same\n",
        "print(y@tf.reshape(d,shape=(3,2))) #convolved\n",
        "print(y@tf.transpose(d)) # Both results in diffrent matrices as seen below"
      ],
      "metadata": {
        "colab": {
          "base_uri": "https://localhost:8080/",
          "height": 0
        },
        "id": "104XYgDXXyuw",
        "outputId": "8c3c97ac-853c-4531-e285-f97e191b6f85"
      },
      "execution_count": 88,
      "outputs": [
        {
          "output_type": "stream",
          "name": "stdout",
          "text": [
            "(2, 3) (2, 3)\n",
            "tf.Tensor(\n",
            "[[ 58  64]\n",
            " [139 154]], shape=(2, 2), dtype=int32)\n",
            "tf.Tensor(\n",
            "[[ 50  68]\n",
            " [122 167]], shape=(2, 2), dtype=int32)\n"
          ]
        }
      ]
    },
    {
      "cell_type": "code",
      "source": [
        "print(d,tf.transpose(d),tf.reshape(d,shape=(3,2)))"
      ],
      "metadata": {
        "colab": {
          "base_uri": "https://localhost:8080/",
          "height": 0
        },
        "id": "AHBm4nBLZOJH",
        "outputId": "5640afeb-aec4-43be-e443-d5c4e53b063e"
      },
      "execution_count": 89,
      "outputs": [
        {
          "output_type": "stream",
          "name": "stdout",
          "text": [
            "tf.Tensor(\n",
            "[[ 7  8  9]\n",
            " [10 11 12]], shape=(2, 3), dtype=int32) tf.Tensor(\n",
            "[[ 7 10]\n",
            " [ 8 11]\n",
            " [ 9 12]], shape=(3, 2), dtype=int32) tf.Tensor(\n",
            "[[ 7  8]\n",
            " [ 9 10]\n",
            " [11 12]], shape=(3, 2), dtype=int32)\n"
          ]
        }
      ]
    },
    {
      "cell_type": "markdown",
      "source": [
        "# To Change Datatype"
      ],
      "metadata": {
        "id": "af9d16p6QJME"
      }
    },
    {
      "cell_type": "code",
      "source": [
        "print(\"X : \",x,\"\\n Datatype : \",x.dtype)"
      ],
      "metadata": {
        "colab": {
          "base_uri": "https://localhost:8080/",
          "height": 0
        },
        "id": "kj3-GTvCa4Ib",
        "outputId": "3f3b93e5-f6f8-49f6-e9e4-3748ae32e18f"
      },
      "execution_count": 90,
      "outputs": [
        {
          "output_type": "stream",
          "name": "stdout",
          "text": [
            "X :  tf.Tensor(\n",
            "[[110 120]\n",
            " [130 140]], shape=(2, 2), dtype=int32) \n",
            " Datatype :  <dtype: 'int32'>\n"
          ]
        }
      ]
    },
    {
      "cell_type": "code",
      "source": [
        "x = tf.cast(x,dtype=tf.float16) #convert x into float16\n",
        "print(\"X : \",x,\"\\n Datatype : \",x.dtype)"
      ],
      "metadata": {
        "colab": {
          "base_uri": "https://localhost:8080/",
          "height": 0
        },
        "id": "vA9CnrRkQQHF",
        "outputId": "d2a84be2-256b-4fe3-c620-0f31649cf8ee"
      },
      "execution_count": 91,
      "outputs": [
        {
          "output_type": "stream",
          "name": "stdout",
          "text": [
            "X :  tf.Tensor(\n",
            "[[110. 120.]\n",
            " [130. 140.]], shape=(2, 2), dtype=float16) \n",
            " Datatype :  <dtype: 'float16'>\n"
          ]
        }
      ]
    },
    {
      "cell_type": "markdown",
      "source": [
        "# Aggregating the values\n",
        "* absolute\n",
        "* minimum\n",
        "* maximum\n",
        "* mean"
      ],
      "metadata": {
        "id": "6jG7IcR_RYh5"
      }
    },
    {
      "cell_type": "code",
      "source": [
        "a = tf.constant([-91,10])\n",
        "print(a)"
      ],
      "metadata": {
        "colab": {
          "base_uri": "https://localhost:8080/",
          "height": 0
        },
        "id": "NQNY_J2VQXSb",
        "outputId": "7e74f400-bd0d-4353-cbba-a50c3456854d"
      },
      "execution_count": 92,
      "outputs": [
        {
          "output_type": "stream",
          "name": "stdout",
          "text": [
            "tf.Tensor([-91  10], shape=(2,), dtype=int32)\n"
          ]
        }
      ]
    },
    {
      "cell_type": "code",
      "source": [
        "tf.abs(a) # absolute value"
      ],
      "metadata": {
        "colab": {
          "base_uri": "https://localhost:8080/",
          "height": 0
        },
        "id": "h4tN0YJ0Rn5E",
        "outputId": "89df657f-2eca-4b2a-ec65-f646b15e2cbd"
      },
      "execution_count": 93,
      "outputs": [
        {
          "output_type": "execute_result",
          "data": {
            "text/plain": [
              "<tf.Tensor: shape=(2,), dtype=int32, numpy=array([91, 10], dtype=int32)>"
            ]
          },
          "metadata": {},
          "execution_count": 93
        }
      ]
    },
    {
      "cell_type": "code",
      "source": [
        "n = tf.constant(np.random.randint(0,100,size=50))\n",
        "print(n)\n",
        "print(n.shape,n.ndim,tf.size(n))"
      ],
      "metadata": {
        "colab": {
          "base_uri": "https://localhost:8080/",
          "height": 0
        },
        "id": "azymktgLRscV",
        "outputId": "a9647e44-e31d-410f-e1e5-758408b1aea6"
      },
      "execution_count": 94,
      "outputs": [
        {
          "output_type": "stream",
          "name": "stdout",
          "text": [
            "tf.Tensor(\n",
            "[47 43 97 48 96  3 39 42 94 70 64  2 51 99 92 50 42 11 88  7 95 58 15 21\n",
            " 16 61 63 19 60  9  6 70 87 49 50 93 62 45 68 56 28 99 68 67 35 43 14 32\n",
            " 26 91], shape=(50,), dtype=int64)\n",
            "(50,) 1 tf.Tensor(50, shape=(), dtype=int32)\n"
          ]
        }
      ]
    },
    {
      "cell_type": "code",
      "source": [
        "print(\"Mean = \",tf.reduce_mean(n),\"\\n Sum = \",tf.reduce_sum(n),\"\\n Min = \",tf.reduce_min(n),\"\\n Max = \",tf.reduce_max(n))"
      ],
      "metadata": {
        "colab": {
          "base_uri": "https://localhost:8080/",
          "height": 0
        },
        "id": "cf-Zl8l_SJNK",
        "outputId": "703a37d0-60fb-48f4-c3be-85a2f17d86bd"
      },
      "execution_count": 95,
      "outputs": [
        {
          "output_type": "stream",
          "name": "stdout",
          "text": [
            "Mean =  tf.Tensor(51, shape=(), dtype=int64) \n",
            " Sum =  tf.Tensor(2591, shape=(), dtype=int64) \n",
            " Min =  tf.Tensor(2, shape=(), dtype=int64) \n",
            " Max =  tf.Tensor(99, shape=(), dtype=int64)\n"
          ]
        }
      ]
    },
    {
      "cell_type": "code",
      "source": [
        "import tensorflow_probability as tfp\n",
        "tfp.stats.variance(n) #numpy value\n"
      ],
      "metadata": {
        "colab": {
          "base_uri": "https://localhost:8080/",
          "height": 0
        },
        "id": "8folkEPRTOyE",
        "outputId": "e478efc4-8a93-429f-dc5c-f1b189a7d19f"
      },
      "execution_count": 96,
      "outputs": [
        {
          "output_type": "execute_result",
          "data": {
            "text/plain": [
              "<tf.Tensor: shape=(), dtype=int64, numpy=852>"
            ]
          },
          "metadata": {},
          "execution_count": 96
        }
      ]
    },
    {
      "cell_type": "code",
      "source": [
        "tf.math.reduce_std(tf.cast(n,dtype=tf.float32)) #numpy value and for std we require float value"
      ],
      "metadata": {
        "colab": {
          "base_uri": "https://localhost:8080/",
          "height": 0
        },
        "id": "rExhGEUgUeF-",
        "outputId": "e30c8e10-777a-4edf-a45d-c11f7dd5613a"
      },
      "execution_count": 97,
      "outputs": [
        {
          "output_type": "execute_result",
          "data": {
            "text/plain": [
              "<tf.Tensor: shape=(), dtype=float32, numpy=29.179234>"
            ]
          },
          "metadata": {},
          "execution_count": 97
        }
      ]
    },
    {
      "cell_type": "markdown",
      "source": [
        "# Finding index or position of min or max element in tensor\n"
      ],
      "metadata": {
        "id": "bvxjcB0FsCQI"
      }
    },
    {
      "cell_type": "code",
      "source": [
        "print(n)\n",
        "# print(tf.argmax(n))\n",
        "max = tf.argmax(n)\n",
        "if tf.reduce_max(n)==n[tf.argmax(n)]:\n",
        "  print(f\"Verified that {tf.reduce_max(n)} is the highest value at index {max}\")"
      ],
      "metadata": {
        "id": "IO8RboB2U6-6",
        "colab": {
          "base_uri": "https://localhost:8080/",
          "height": 0
        },
        "outputId": "0508b0d0-5862-4f0d-cee3-5e1b50f46a6a"
      },
      "execution_count": 98,
      "outputs": [
        {
          "output_type": "stream",
          "name": "stdout",
          "text": [
            "tf.Tensor(\n",
            "[47 43 97 48 96  3 39 42 94 70 64  2 51 99 92 50 42 11 88  7 95 58 15 21\n",
            " 16 61 63 19 60  9  6 70 87 49 50 93 62 45 68 56 28 99 68 67 35 43 14 32\n",
            " 26 91], shape=(50,), dtype=int64)\n",
            "Verified that 99 is the highest value at index 13\n"
          ]
        }
      ]
    },
    {
      "cell_type": "code",
      "source": [
        "print(n)\n",
        "# print(tf.argmin(n))\n",
        "min = tf.argmin(n)\n",
        "if tf.reduce_min(n)==n[tf.argmin(n)]:\n",
        "  print(f\"Verified that {tf.reduce_min(n)} is the lowest value at index {min}\")"
      ],
      "metadata": {
        "colab": {
          "base_uri": "https://localhost:8080/",
          "height": 0
        },
        "id": "Y34hoGnWsML4",
        "outputId": "7bee7fa2-440d-4e48-b4f2-2bddd3005d86"
      },
      "execution_count": 99,
      "outputs": [
        {
          "output_type": "stream",
          "name": "stdout",
          "text": [
            "tf.Tensor(\n",
            "[47 43 97 48 96  3 39 42 94 70 64  2 51 99 92 50 42 11 88  7 95 58 15 21\n",
            " 16 61 63 19 60  9  6 70 87 49 50 93 62 45 68 56 28 99 68 67 35 43 14 32\n",
            " 26 91], shape=(50,), dtype=int64)\n",
            "Verified that 2 is the lowest value at index 11\n"
          ]
        }
      ]
    },
    {
      "cell_type": "code",
      "source": [
        "print(n)\n",
        "print(f\"Squareing operation :\\n {tf.square(n)}\")\n",
        "print(f\"\\n\\nSqrt operation : (requires float values and will throw error if dtype is int32) :\\n{tf.sqrt(tf.cast(n,dtype=tf.float16))}\")\n",
        "print(f\"\\n\\n Log operation : (requires float values) : \\n {tf.math.log(tf.cast(n,tf.float32))}\")"
      ],
      "metadata": {
        "colab": {
          "base_uri": "https://localhost:8080/",
          "height": 0
        },
        "id": "nnzj0Ycwd_zC",
        "outputId": "795ecd00-1812-4dfb-ae48-f44b714f5db1"
      },
      "execution_count": 100,
      "outputs": [
        {
          "output_type": "stream",
          "name": "stdout",
          "text": [
            "tf.Tensor(\n",
            "[47 43 97 48 96  3 39 42 94 70 64  2 51 99 92 50 42 11 88  7 95 58 15 21\n",
            " 16 61 63 19 60  9  6 70 87 49 50 93 62 45 68 56 28 99 68 67 35 43 14 32\n",
            " 26 91], shape=(50,), dtype=int64)\n",
            "Squareing operation :\n",
            " [2209 1849 9409 2304 9216    9 1521 1764 8836 4900 4096    4 2601 9801\n",
            " 8464 2500 1764  121 7744   49 9025 3364  225  441  256 3721 3969  361\n",
            " 3600   81   36 4900 7569 2401 2500 8649 3844 2025 4624 3136  784 9801\n",
            " 4624 4489 1225 1849  196 1024  676 8281]\n",
            "\n",
            "\n",
            "Sqrt operation : (requires float values and will throw error if dtype is int32) :\n",
            "[6.855 6.56  9.85  6.93  9.8   1.732 6.246 6.48  9.695 8.37  8.    1.414\n",
            " 7.14  9.95  9.59  7.07  6.48  3.316 9.38  2.646 9.75  7.617 3.873 4.582\n",
            " 4.    7.81  7.938 4.36  7.746 3.    2.45  8.37  9.33  7.    7.07  9.64\n",
            " 7.875 6.707 8.25  7.484 5.293 9.95  8.25  8.19  5.918 6.56  3.742 5.656\n",
            " 5.098 9.54 ]\n",
            "\n",
            "\n",
            " Log operation : (requires float values) : \n",
            " [3.8501477 3.7612002 4.574711  3.871201  4.564348  1.0986123 3.6635616\n",
            " 3.7376697 4.543295  4.248495  4.158883  0.6931472 3.9318256 4.59512\n",
            " 4.5217886 3.912023  3.7376697 2.3978953 4.477337  1.9459102 4.553877\n",
            " 4.060443  2.7080503 3.0445225 2.7725887 4.1108737 4.1431346 2.944439\n",
            " 4.0943446 2.1972246 1.7917595 4.248495  4.465908  3.8918204 3.912023\n",
            " 4.5325994 4.1271343 3.8066626 4.2195077 4.0253515 3.3322046 4.59512\n",
            " 4.2195077 4.204693  3.5553482 3.7612002 2.6390574 3.465736  3.2580965\n",
            " 4.5108595]\n"
          ]
        }
      ]
    },
    {
      "cell_type": "markdown",
      "source": [
        "# Removing single redundant dimensions"
      ],
      "metadata": {
        "id": "HEKAexvkuKOy"
      }
    },
    {
      "cell_type": "code",
      "source": [
        "tf.random.set_seed(89) # only works for  tensorflow\n",
        "# eg = tf.constant(np.random.randint(1,100,50),shape=(1,1,1,1,50))\n",
        "eg = tf.constant(tf.random.uniform(shape=[50]),shape=(1,1,1,1,50))\n",
        "print(eg.shape)"
      ],
      "metadata": {
        "colab": {
          "base_uri": "https://localhost:8080/",
          "height": 0
        },
        "id": "r6VPMp_6tTx9",
        "outputId": "9a64b163-c0d6-4665-f19c-56dc6cce9420"
      },
      "execution_count": 101,
      "outputs": [
        {
          "output_type": "stream",
          "name": "stdout",
          "text": [
            "(1, 1, 1, 1, 50)\n"
          ]
        }
      ]
    },
    {
      "cell_type": "code",
      "source": [
        "print(tf.squeeze(eg).shape)"
      ],
      "metadata": {
        "colab": {
          "base_uri": "https://localhost:8080/",
          "height": 0
        },
        "id": "Mej7gTQuujM6",
        "outputId": "28a582c6-50de-405f-883c-86b0a3b52169"
      },
      "execution_count": 102,
      "outputs": [
        {
          "output_type": "stream",
          "name": "stdout",
          "text": [
            "(50,)\n"
          ]
        }
      ]
    },
    {
      "cell_type": "markdown",
      "source": [
        "# One Hot Encoding\n",
        "\n",
        "we can use this to encode diffrent labels of classes ,we need to passs the list of unique classes and the depth as the parameters and if we wish we can also add on and off value in the form of a text"
      ],
      "metadata": {
        "id": "WRgOCoyRv8fu"
      }
    },
    {
      "cell_type": "code",
      "source": [
        "li = []\n",
        "# index = []\n",
        "i = True\n",
        "while i == True:\n",
        "    c = str(input(\"Enter diffrent names of colors.....enter '0' after completion :  \"))\n",
        "    if c == \"0\":\n",
        "        i = False\n",
        "    else:\n",
        "        li.append(c)\n",
        "print (li)\n",
        "\n",
        "# for i in range(len(li)) :\n",
        "#     index.append(i)\n",
        "\n",
        "index = tf.range(0,len(li))\n",
        "Encoding = tf.one_hot(index,depth=5)\n",
        "print(Encoding,\"\\n\")\n",
        "\n",
        "for i in range(len(li)):\n",
        "  print(f\"{li[i]} : {Encoding[i,:]}\\n\")\n"
      ],
      "metadata": {
        "colab": {
          "base_uri": "https://localhost:8080/",
          "height": 0
        },
        "id": "oJYBof94upKJ",
        "outputId": "ea4ff106-7c26-44db-d436-e2963dda77b7"
      },
      "execution_count": 103,
      "outputs": [
        {
          "output_type": "stream",
          "name": "stdout",
          "text": [
            "Enter diffrent names of colors.....enter '0' after completion :  a\n",
            "Enter diffrent names of colors.....enter '0' after completion :  b\n",
            "Enter diffrent names of colors.....enter '0' after completion :  0\n",
            "['a', 'b']\n",
            "tf.Tensor(\n",
            "[[1. 0. 0. 0. 0.]\n",
            " [0. 1. 0. 0. 0.]], shape=(2, 5), dtype=float32) \n",
            "\n",
            "a : [1. 0. 0. 0. 0.]\n",
            "\n",
            "b : [0. 1. 0. 0. 0.]\n",
            "\n"
          ]
        }
      ]
    },
    {
      "cell_type": "code",
      "source": [
        "Encoding = tf.one_hot(index,depth=5,on_value = \"Vedant\",off_value=\"Ranade\") # 1 is vedant,0 is ranade\n",
        "print(Encoding,\"\\n\")"
      ],
      "metadata": {
        "colab": {
          "base_uri": "https://localhost:8080/",
          "height": 0
        },
        "id": "P00NGAcR0Zoj",
        "outputId": "a35b6c04-4c86-4819-d3b4-15cb312109d4"
      },
      "execution_count": 104,
      "outputs": [
        {
          "output_type": "stream",
          "name": "stdout",
          "text": [
            "tf.Tensor(\n",
            "[[b'Vedant' b'Ranade' b'Ranade' b'Ranade' b'Ranade']\n",
            " [b'Ranade' b'Vedant' b'Ranade' b'Ranade' b'Ranade']], shape=(2, 5), dtype=string) \n",
            "\n"
          ]
        }
      ]
    },
    {
      "cell_type": "markdown",
      "source": [
        "# Numpy operations\n"
      ],
      "metadata": {
        "id": "-QKFIcVGgN95"
      }
    },
    {
      "cell_type": "code",
      "source": [
        "num = tf.constant(np.array(np.random.uniform(5,10,10))) # or jisme jisme numpy use hoga\n",
        "t = tf.constant([9.,3.,4.])\n",
        "\n",
        "print(f\"There is diffrence in defualt dtype\\n 1) Numpy : {num.dtype} \\n 2) Direct {t.dtype}\")"
      ],
      "metadata": {
        "colab": {
          "base_uri": "https://localhost:8080/",
          "height": 0
        },
        "id": "pYKpq_ij1_FD",
        "outputId": "efa50243-febd-42d5-8327-c260936806c4"
      },
      "execution_count": 116,
      "outputs": [
        {
          "output_type": "stream",
          "name": "stdout",
          "text": [
            "There is diffrence in defualt dtype\n",
            " 1) Numpy : <dtype: 'float64'> \n",
            " 2) Direct <dtype: 'float32'>\n"
          ]
        }
      ]
    },
    {
      "cell_type": "code",
      "source": [
        "# we can access it easily\n",
        "num.numpy()[0]\n"
      ],
      "metadata": {
        "colab": {
          "base_uri": "https://localhost:8080/",
          "height": 0
        },
        "id": "YVfkoQS_dfjV",
        "outputId": "a50a12f7-2de9-4c92-d196-db93518dac06"
      },
      "execution_count": 119,
      "outputs": [
        {
          "output_type": "execute_result",
          "data": {
            "text/plain": [
              "6.428742171005208"
            ]
          },
          "metadata": {},
          "execution_count": 119
        }
      ]
    },
    {
      "cell_type": "code",
      "source": [],
      "metadata": {
        "id": "Dz0-vzy1iUIU"
      },
      "execution_count": null,
      "outputs": []
    }
  ]
}