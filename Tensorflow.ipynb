{
  "nbformat": 4,
  "nbformat_minor": 0,
  "metadata": {
    "colab": {
      "provenance": []
    },
    "kernelspec": {
      "name": "python3",
      "display_name": "Python 3"
    },
    "language_info": {
      "name": "python"
    }
  },
  "cells": [
    {
      "cell_type": "code",
      "execution_count": 43,
      "metadata": {
        "id": "y6ABNC4WsQcI"
      },
      "outputs": [],
      "source": [
        "import tensorflow as tf"
      ]
    },
    {
      "cell_type": "code",
      "source": [
        "tf.__version__"
      ],
      "metadata": {
        "colab": {
          "base_uri": "https://localhost:8080/",
          "height": 36
        },
        "id": "hKvUw6ZQse47",
        "outputId": "163814cc-1909-4904-ad35-a9ed967a992b"
      },
      "execution_count": 44,
      "outputs": [
        {
          "output_type": "execute_result",
          "data": {
            "text/plain": [
              "'2.15.0'"
            ],
            "application/vnd.google.colaboratory.intrinsic+json": {
              "type": "string"
            }
          },
          "metadata": {},
          "execution_count": 44
        }
      ]
    },
    {
      "cell_type": "code",
      "source": [
        "scalar = tf.constant(7)\n",
        "print(scalar)\n",
        "print(scalar.ndim) #number of dimensions"
      ],
      "metadata": {
        "colab": {
          "base_uri": "https://localhost:8080/"
        },
        "id": "YPt3tnkPskYg",
        "outputId": "a7944038-cdae-48f3-f24c-03871f0d5093"
      },
      "execution_count": 45,
      "outputs": [
        {
          "output_type": "stream",
          "name": "stdout",
          "text": [
            "tf.Tensor(7, shape=(), dtype=int32)\n",
            "0\n"
          ]
        }
      ]
    },
    {
      "cell_type": "code",
      "source": [
        "vector = tf.constant([26,12])\n",
        "print(vector)\n",
        "print(vector.ndim) #number of dimensions"
      ],
      "metadata": {
        "colab": {
          "base_uri": "https://localhost:8080/"
        },
        "id": "IvW22PQis5X7",
        "outputId": "b4d02441-7b59-4911-986e-2c4bbd670b29"
      },
      "execution_count": 46,
      "outputs": [
        {
          "output_type": "stream",
          "name": "stdout",
          "text": [
            "tf.Tensor([26 12], shape=(2,), dtype=int32)\n",
            "1\n"
          ]
        }
      ]
    },
    {
      "cell_type": "code",
      "source": [
        "matrix = tf.constant([[26,12],[9,11]])\n",
        "print(matrix)\n",
        "print(matrix.ndim) #number of dimensions"
      ],
      "metadata": {
        "colab": {
          "base_uri": "https://localhost:8080/"
        },
        "id": "WfLXMQ3btB0O",
        "outputId": "264e3b97-796a-45d1-87a6-9976030aefd5"
      },
      "execution_count": 47,
      "outputs": [
        {
          "output_type": "stream",
          "name": "stdout",
          "text": [
            "tf.Tensor(\n",
            "[[26 12]\n",
            " [ 9 11]], shape=(2, 2), dtype=int32)\n",
            "2\n"
          ]
        }
      ]
    },
    {
      "cell_type": "code",
      "source": [
        "matrix = tf.constant([[26,12],[9,11]],dtype =tf.float16) #chnaging dtype\n",
        "print(matrix)\n",
        "print(matrix.ndim) #number of dimensions"
      ],
      "metadata": {
        "colab": {
          "base_uri": "https://localhost:8080/"
        },
        "id": "E3FZ693AttTH",
        "outputId": "7e95c7ef-bb76-4cb8-e4c6-07f694c199e4"
      },
      "execution_count": 48,
      "outputs": [
        {
          "output_type": "stream",
          "name": "stdout",
          "text": [
            "tf.Tensor(\n",
            "[[26. 12.]\n",
            " [ 9. 11.]], shape=(2, 2), dtype=float16)\n",
            "2\n"
          ]
        }
      ]
    },
    {
      "cell_type": "markdown",
      "source": [
        "# tf.Variable()"
      ],
      "metadata": {
        "id": "nQhzsm_Vv_dR"
      }
    },
    {
      "cell_type": "code",
      "source": [
        "changeable_tensor = tf.Variable([13, 34])\n",
        "unchanageble = tf.constant([12,26])"
      ],
      "metadata": {
        "id": "ueXL9-lpuRsd"
      },
      "execution_count": 69,
      "outputs": []
    },
    {
      "cell_type": "code",
      "source": [
        "print(changeable_tensor)"
      ],
      "metadata": {
        "colab": {
          "base_uri": "https://localhost:8080/"
        },
        "id": "PxysyHBgx7Q3",
        "outputId": "e338a337-42d4-4661-e421-9d4fdd927959"
      },
      "execution_count": 70,
      "outputs": [
        {
          "output_type": "stream",
          "name": "stdout",
          "text": [
            "<tf.Variable 'Variable:0' shape=(2,) dtype=int32, numpy=array([13, 34], dtype=int32)>\n"
          ]
        }
      ]
    },
    {
      "cell_type": "code",
      "source": [
        "# changeable_tensor.append([12,26]) ..........NO append works for this instead use assign\n",
        "# print(changeable_tensor)"
      ],
      "metadata": {
        "id": "6y4vIy2cx_YF"
      },
      "execution_count": 71,
      "outputs": []
    },
    {
      "cell_type": "code",
      "source": [
        "# Now you can use .assign()\n",
        "changeable_tensor[0].assign(12,67)\n",
        "print(changeable_tensor)\n",
        "\n",
        "# We can use assign() on unchanagable tensors or constants which are specially designed to keep the tensor value consistent"
      ],
      "metadata": {
        "colab": {
          "base_uri": "https://localhost:8080/"
        },
        "id": "uLbD7b4YyBUr",
        "outputId": "8c8a2464-390a-44fe-cf0a-fd5051f82779"
      },
      "execution_count": 72,
      "outputs": [
        {
          "output_type": "stream",
          "name": "stdout",
          "text": [
            "<tf.Variable 'Variable:0' shape=(2,) dtype=int32, numpy=array([12, 34], dtype=int32)>\n"
          ]
        }
      ]
    },
    {
      "cell_type": "code",
      "source": [],
      "metadata": {
        "id": "M2zwxOBe0FbG"
      },
      "execution_count": null,
      "outputs": []
    }
  ]
}