{
 "cells": [
  {
   "cell_type": "code",
   "execution_count": 1,
   "metadata": {},
   "outputs": [],
   "source": [
    "def paths(p):\n",
    "  \"\"\"\n",
    "  Navigate through Drive paths to access files from a particular folder\n",
    "  takes one args\n",
    "\n",
    "  \"\"\"\n",
    "  # Specify the folder path within your Google Drive\n",
    "  folder_path = p\n",
    "  # List files in the folder\n",
    "  file_paths = []\n",
    "  file_name = []\n",
    "  for root, dirs, files in os.walk(folder_path):\n",
    "      for file in files:\n",
    "          file_paths.append(os.path.join(root, file))\n",
    "          file_name.append(file)\n",
    "          # print(f\"File Path: {os.path.join(root, file)}\")\n",
    "  return file_paths,file_name"
   ]
  },
  {
   "cell_type": "code",
   "execution_count": 2,
   "metadata": {},
   "outputs": [],
   "source": [
    "import os\n",
    "pa = ['E://human//archive//Road_Anomaly_Dataset//Road_Anomaly_Dataset//train//Accident',\n",
    "'E://human//archive//Road_Anomaly_Dataset//Road_Anomaly_Dataset//train//Fight',\n",
    "'E://human//archive//Road_Anomaly_Dataset//Road_Anomaly_Dataset//train//Fire',\n",
    "'E://human//archive//Road_Anomaly_Dataset//Road_Anomaly_Dataset//train//Snatching']\n",
    "\n",
    "name = ['Accident','Fight','Fire','Snatching']"
   ]
  },
  {
   "cell_type": "code",
   "execution_count": 3,
   "metadata": {},
   "outputs": [
    {
     "name": "stdout",
     "output_type": "stream",
     "text": [
      "Requirement already satisfied: panadas in c:\\users\\hp\\anaconda3\\envs\\vs_gpu\\lib\\site-packages (0.2)\n"
     ]
    }
   ],
   "source": [
    "!pip install panadas"
   ]
  },
  {
   "cell_type": "code",
   "execution_count": 4,
   "metadata": {},
   "outputs": [
    {
     "ename": "ModuleNotFoundError",
     "evalue": "No module named 'pandas'",
     "output_type": "error",
     "traceback": [
      "\u001b[1;31m---------------------------------------------------------------------------\u001b[0m",
      "\u001b[1;31mModuleNotFoundError\u001b[0m                       Traceback (most recent call last)",
      "Cell \u001b[1;32mIn[4], line 1\u001b[0m\n\u001b[1;32m----> 1\u001b[0m \u001b[38;5;28;01mimport\u001b[39;00m \u001b[38;5;21;01mpandas\u001b[39;00m  \u001b[38;5;28;01mas\u001b[39;00m \u001b[38;5;21;01mpd\u001b[39;00m\n\u001b[0;32m      3\u001b[0m df \u001b[38;5;241m=\u001b[39m pd\u001b[38;5;241m.\u001b[39mDataFrame(columns\u001b[38;5;241m=\u001b[39m[\u001b[38;5;124m'\u001b[39m\u001b[38;5;124mName\u001b[39m\u001b[38;5;124m'\u001b[39m,\u001b[38;5;124m'\u001b[39m\u001b[38;5;124mPath\u001b[39m\u001b[38;5;124m'\u001b[39m,\u001b[38;5;124m'\u001b[39m\u001b[38;5;124mTarget\u001b[39m\u001b[38;5;124m'\u001b[39m])\n",
      "\u001b[1;31mModuleNotFoundError\u001b[0m: No module named 'pandas'"
     ]
    }
   ],
   "source": [
    "import pandas  as pd\n",
    "\n",
    "df = pd.DataFrame(columns=['Name','Path','Target'])"
   ]
  },
  {
   "cell_type": "code",
   "execution_count": 4,
   "metadata": {},
   "outputs": [],
   "source": [
    "for i, folder_path in enumerate(pa):\n",
    "    file_paths, file_names = paths(folder_path)\n",
    "    for file_path, file_name in zip(file_paths, file_names):\n",
    "        new_row = {'Name': file_name, 'Path': file_path, 'Target': name[i]}\n",
    "        df.loc[len(df)] = new_row"
   ]
  },
  {
   "cell_type": "code",
   "execution_count": 5,
   "metadata": {},
   "outputs": [
    {
     "data": {
      "text/html": [
       "<div>\n",
       "<style scoped>\n",
       "    .dataframe tbody tr th:only-of-type {\n",
       "        vertical-align: middle;\n",
       "    }\n",
       "\n",
       "    .dataframe tbody tr th {\n",
       "        vertical-align: top;\n",
       "    }\n",
       "\n",
       "    .dataframe thead th {\n",
       "        text-align: right;\n",
       "    }\n",
       "</style>\n",
       "<table border=\"1\" class=\"dataframe\">\n",
       "  <thead>\n",
       "    <tr style=\"text-align: right;\">\n",
       "      <th></th>\n",
       "      <th>Name</th>\n",
       "      <th>Path</th>\n",
       "      <th>Target</th>\n",
       "    </tr>\n",
       "  </thead>\n",
       "  <tbody>\n",
       "  </tbody>\n",
       "</table>\n",
       "</div>"
      ],
      "text/plain": [
       "Empty DataFrame\n",
       "Columns: [Name, Path, Target]\n",
       "Index: []"
      ]
     },
     "execution_count": 5,
     "metadata": {},
     "output_type": "execute_result"
    }
   ],
   "source": [
    "df"
   ]
  },
  {
   "cell_type": "code",
   "execution_count": 6,
   "metadata": {},
   "outputs": [
    {
     "data": {
      "text/html": [
       "<div>\n",
       "<style scoped>\n",
       "    .dataframe tbody tr th:only-of-type {\n",
       "        vertical-align: middle;\n",
       "    }\n",
       "\n",
       "    .dataframe tbody tr th {\n",
       "        vertical-align: top;\n",
       "    }\n",
       "\n",
       "    .dataframe thead th {\n",
       "        text-align: right;\n",
       "    }\n",
       "</style>\n",
       "<table border=\"1\" class=\"dataframe\">\n",
       "  <thead>\n",
       "    <tr style=\"text-align: right;\">\n",
       "      <th></th>\n",
       "      <th>Name</th>\n",
       "      <th>Path</th>\n",
       "      <th>Target</th>\n",
       "    </tr>\n",
       "  </thead>\n",
       "  <tbody>\n",
       "    <tr>\n",
       "      <th>count</th>\n",
       "      <td>0</td>\n",
       "      <td>0</td>\n",
       "      <td>0</td>\n",
       "    </tr>\n",
       "    <tr>\n",
       "      <th>unique</th>\n",
       "      <td>0</td>\n",
       "      <td>0</td>\n",
       "      <td>0</td>\n",
       "    </tr>\n",
       "    <tr>\n",
       "      <th>top</th>\n",
       "      <td>NaN</td>\n",
       "      <td>NaN</td>\n",
       "      <td>NaN</td>\n",
       "    </tr>\n",
       "    <tr>\n",
       "      <th>freq</th>\n",
       "      <td>NaN</td>\n",
       "      <td>NaN</td>\n",
       "      <td>NaN</td>\n",
       "    </tr>\n",
       "  </tbody>\n",
       "</table>\n",
       "</div>"
      ],
      "text/plain": [
       "       Name Path Target\n",
       "count     0    0      0\n",
       "unique    0    0      0\n",
       "top     NaN  NaN    NaN\n",
       "freq    NaN  NaN    NaN"
      ]
     },
     "execution_count": 6,
     "metadata": {},
     "output_type": "execute_result"
    }
   ],
   "source": [
    "df.describe()"
   ]
  },
  {
   "cell_type": "code",
   "execution_count": 11,
   "metadata": {},
   "outputs": [
    {
     "data": {
      "text/plain": [
       "<bound method DataFrame.info of                    Name                                               Path  \\\n",
       "0       ACC_011 (1).jpg  E://human//archive//Road_Anomaly_Dataset//Road...   \n",
       "1      ACC_011 (10).jpg  E://human//archive//Road_Anomaly_Dataset//Road...   \n",
       "2     ACC_011 (100).jpg  E://human//archive//Road_Anomaly_Dataset//Road...   \n",
       "3     ACC_011 (101).jpg  E://human//archive//Road_Anomaly_Dataset//Road...   \n",
       "4     ACC_011 (102).jpg  E://human//archive//Road_Anomaly_Dataset//Road...   \n",
       "...                 ...                                                ...   \n",
       "2630  Snatch_1 (95).jpg  E://human//archive//Road_Anomaly_Dataset//Road...   \n",
       "2631  Snatch_1 (96).jpg  E://human//archive//Road_Anomaly_Dataset//Road...   \n",
       "2632  Snatch_1 (97).jpg  E://human//archive//Road_Anomaly_Dataset//Road...   \n",
       "2633  Snatch_1 (98).jpg  E://human//archive//Road_Anomaly_Dataset//Road...   \n",
       "2634  Snatch_1 (99).jpg  E://human//archive//Road_Anomaly_Dataset//Road...   \n",
       "\n",
       "         Target  \n",
       "0      Accident  \n",
       "1      Accident  \n",
       "2      Accident  \n",
       "3      Accident  \n",
       "4      Accident  \n",
       "...         ...  \n",
       "2630  Snatching  \n",
       "2631  Snatching  \n",
       "2632  Snatching  \n",
       "2633  Snatching  \n",
       "2634  Snatching  \n",
       "\n",
       "[2635 rows x 3 columns]>"
      ]
     },
     "execution_count": 11,
     "metadata": {},
     "output_type": "execute_result"
    }
   ],
   "source": [
    "df.info"
   ]
  },
  {
   "cell_type": "code",
   "execution_count": 12,
   "metadata": {},
   "outputs": [
    {
     "data": {
      "text/plain": [
       "array(['Accident', 'Fight', 'Fire', 'Snatching'], dtype=object)"
      ]
     },
     "execution_count": 12,
     "metadata": {},
     "output_type": "execute_result"
    }
   ],
   "source": [
    "df['Target'].unique()"
   ]
  },
  {
   "cell_type": "code",
   "execution_count": 13,
   "metadata": {},
   "outputs": [],
   "source": [
    "df.to_csv(\"Pathdf.csv\")"
   ]
  },
  {
   "cell_type": "code",
   "execution_count": 4,
   "metadata": {},
   "outputs": [
    {
     "name": "stdout",
     "output_type": "stream",
     "text": [
      "Collecting pandas\n",
      "  Downloading pandas-2.2.3-cp310-cp310-win_amd64.whl.metadata (19 kB)\n",
      "Requirement already satisfied: numpy>=1.22.4 in c:\\users\\hp\\anaconda3\\envs\\gpu\\lib\\site-packages (from pandas) (1.26.4)\n",
      "Requirement already satisfied: python-dateutil>=2.8.2 in c:\\users\\hp\\anaconda3\\envs\\gpu\\lib\\site-packages (from pandas) (2.9.0.post0)\n",
      "Collecting pytz>=2020.1 (from pandas)\n",
      "  Using cached pytz-2024.2-py2.py3-none-any.whl.metadata (22 kB)\n",
      "Collecting tzdata>=2022.7 (from pandas)\n",
      "  Downloading tzdata-2025.1-py2.py3-none-any.whl.metadata (1.4 kB)\n",
      "Requirement already satisfied: six>=1.5 in c:\\users\\hp\\anaconda3\\envs\\gpu\\lib\\site-packages (from python-dateutil>=2.8.2->pandas) (1.16.0)\n",
      "Downloading pandas-2.2.3-cp310-cp310-win_amd64.whl (11.6 MB)\n",
      "   ---------------------------------------- 0.0/11.6 MB ? eta -:--:--\n",
      "   --------- ------------------------------ 2.6/11.6 MB 12.5 MB/s eta 0:00:01\n",
      "   -------------- ------------------------- 4.2/11.6 MB 9.7 MB/s eta 0:00:01\n",
      "   ------------------ --------------------- 5.2/11.6 MB 8.6 MB/s eta 0:00:01\n",
      "   ---------------------- ----------------- 6.6/11.6 MB 7.7 MB/s eta 0:00:01\n",
      "   --------------------------- ------------ 7.9/11.6 MB 7.5 MB/s eta 0:00:01\n",
      "   ------------------------------- -------- 9.2/11.6 MB 7.3 MB/s eta 0:00:01\n",
      "   ----------------------------------- ---- 10.2/11.6 MB 7.2 MB/s eta 0:00:01\n",
      "   ---------------------------------------- 11.6/11.6 MB 6.8 MB/s eta 0:00:00\n",
      "Using cached pytz-2024.2-py2.py3-none-any.whl (508 kB)\n",
      "Downloading tzdata-2025.1-py2.py3-none-any.whl (346 kB)\n",
      "Installing collected packages: pytz, tzdata, pandas\n",
      "Successfully installed pandas-2.2.3 pytz-2024.2 tzdata-2025.1\n"
     ]
    }
   ],
   "source": [
    "!pip install pandas"
   ]
  },
  {
   "cell_type": "code",
   "execution_count": 2,
   "metadata": {},
   "outputs": [
    {
     "data": {
      "text/html": [
       "<div>\n",
       "<style scoped>\n",
       "    .dataframe tbody tr th:only-of-type {\n",
       "        vertical-align: middle;\n",
       "    }\n",
       "\n",
       "    .dataframe tbody tr th {\n",
       "        vertical-align: top;\n",
       "    }\n",
       "\n",
       "    .dataframe thead th {\n",
       "        text-align: right;\n",
       "    }\n",
       "</style>\n",
       "<table border=\"1\" class=\"dataframe\">\n",
       "  <thead>\n",
       "    <tr style=\"text-align: right;\">\n",
       "      <th></th>\n",
       "      <th>Unnamed: 0</th>\n",
       "      <th>Name</th>\n",
       "      <th>Path</th>\n",
       "      <th>Target</th>\n",
       "    </tr>\n",
       "  </thead>\n",
       "  <tbody>\n",
       "    <tr>\n",
       "      <th>0</th>\n",
       "      <td>0</td>\n",
       "      <td>ACC_011 (1).jpg</td>\n",
       "      <td>E://human//archive//Road_Anomaly_Dataset//Road...</td>\n",
       "      <td>Accident</td>\n",
       "    </tr>\n",
       "    <tr>\n",
       "      <th>1</th>\n",
       "      <td>1</td>\n",
       "      <td>ACC_011 (10).jpg</td>\n",
       "      <td>E://human//archive//Road_Anomaly_Dataset//Road...</td>\n",
       "      <td>Accident</td>\n",
       "    </tr>\n",
       "    <tr>\n",
       "      <th>2</th>\n",
       "      <td>2</td>\n",
       "      <td>ACC_011 (100).jpg</td>\n",
       "      <td>E://human//archive//Road_Anomaly_Dataset//Road...</td>\n",
       "      <td>Accident</td>\n",
       "    </tr>\n",
       "    <tr>\n",
       "      <th>3</th>\n",
       "      <td>3</td>\n",
       "      <td>ACC_011 (101).jpg</td>\n",
       "      <td>E://human//archive//Road_Anomaly_Dataset//Road...</td>\n",
       "      <td>Accident</td>\n",
       "    </tr>\n",
       "    <tr>\n",
       "      <th>4</th>\n",
       "      <td>4</td>\n",
       "      <td>ACC_011 (102).jpg</td>\n",
       "      <td>E://human//archive//Road_Anomaly_Dataset//Road...</td>\n",
       "      <td>Accident</td>\n",
       "    </tr>\n",
       "  </tbody>\n",
       "</table>\n",
       "</div>"
      ],
      "text/plain": [
       "   Unnamed: 0               Name  \\\n",
       "0           0    ACC_011 (1).jpg   \n",
       "1           1   ACC_011 (10).jpg   \n",
       "2           2  ACC_011 (100).jpg   \n",
       "3           3  ACC_011 (101).jpg   \n",
       "4           4  ACC_011 (102).jpg   \n",
       "\n",
       "                                                Path    Target  \n",
       "0  E://human//archive//Road_Anomaly_Dataset//Road...  Accident  \n",
       "1  E://human//archive//Road_Anomaly_Dataset//Road...  Accident  \n",
       "2  E://human//archive//Road_Anomaly_Dataset//Road...  Accident  \n",
       "3  E://human//archive//Road_Anomaly_Dataset//Road...  Accident  \n",
       "4  E://human//archive//Road_Anomaly_Dataset//Road...  Accident  "
      ]
     },
     "execution_count": 2,
     "metadata": {},
     "output_type": "execute_result"
    }
   ],
   "source": [
    "import pandas  as pd\n",
    "df = pd.read_csv(\"../Datasets/Pathdf.csv\")\n",
    "df.head()"
   ]
  },
  {
   "cell_type": "markdown",
   "metadata": {},
   "source": [
    "# Become one with the data (visualizing)"
   ]
  },
  {
   "cell_type": "code",
   "execution_count": 3,
   "metadata": {},
   "outputs": [
    {
     "name": "stdout",
     "output_type": "stream",
     "text": [
      "There are 3 directories and 0 images in ../Datasets/Road_Anomaly_Dataset. \n",
      "There are 4 directories and 0 images in ../Datasets/Road_Anomaly_Dataset\\test. \n",
      "There are 0 directories and 241 images in ../Datasets/Road_Anomaly_Dataset\\test\\Accident. \n",
      "There are 0 directories and 155 images in ../Datasets/Road_Anomaly_Dataset\\test\\Fight. \n",
      "There are 0 directories and 100 images in ../Datasets/Road_Anomaly_Dataset\\test\\Fire. \n",
      "There are 0 directories and 149 images in ../Datasets/Road_Anomaly_Dataset\\test\\Snatching. \n",
      "There are 4 directories and 0 images in ../Datasets/Road_Anomaly_Dataset\\train. \n",
      "There are 0 directories and 872 images in ../Datasets/Road_Anomaly_Dataset\\train\\Accident. \n",
      "There are 0 directories and 724 images in ../Datasets/Road_Anomaly_Dataset\\train\\Fight. \n",
      "There are 0 directories and 363 images in ../Datasets/Road_Anomaly_Dataset\\train\\Fire. \n",
      "There are 0 directories and 676 images in ../Datasets/Road_Anomaly_Dataset\\train\\Snatching. \n",
      "There are 4 directories and 0 images in ../Datasets/Road_Anomaly_Dataset\\val. \n",
      "There are 0 directories and 46 images in ../Datasets/Road_Anomaly_Dataset\\val\\Accident. \n",
      "There are 0 directories and 28 images in ../Datasets/Road_Anomaly_Dataset\\val\\Fight. \n",
      "There are 0 directories and 45 images in ../Datasets/Road_Anomaly_Dataset\\val\\Fire. \n",
      "There are 0 directories and 20 images in ../Datasets/Road_Anomaly_Dataset\\val\\Snatching. \n"
     ]
    }
   ],
   "source": [
    "import os\n",
    "for dirpaths,dirnames,filenames in os.walk('../Datasets/Road_Anomaly_Dataset'):\n",
    "    print(f\"There are {len(dirnames)} directories and {len(filenames)} images in {dirpaths}. \")"
   ]
  },
  {
   "cell_type": "code",
   "execution_count": 4,
   "metadata": {},
   "outputs": [
    {
     "name": "stdout",
     "output_type": "stream",
     "text": [
      "Requirement already satisfied: matplotlib in c:\\users\\hp\\anaconda3\\envs\\gpu\\lib\\site-packages (3.10.0)\n",
      "Requirement already satisfied: contourpy>=1.0.1 in c:\\users\\hp\\anaconda3\\envs\\gpu\\lib\\site-packages (from matplotlib) (1.3.1)\n",
      "Requirement already satisfied: cycler>=0.10 in c:\\users\\hp\\anaconda3\\envs\\gpu\\lib\\site-packages (from matplotlib) (0.12.1)\n",
      "Requirement already satisfied: fonttools>=4.22.0 in c:\\users\\hp\\anaconda3\\envs\\gpu\\lib\\site-packages (from matplotlib) (4.55.4)\n",
      "Requirement already satisfied: kiwisolver>=1.3.1 in c:\\users\\hp\\anaconda3\\envs\\gpu\\lib\\site-packages (from matplotlib) (1.4.8)\n",
      "Requirement already satisfied: numpy>=1.23 in c:\\users\\hp\\anaconda3\\envs\\gpu\\lib\\site-packages (from matplotlib) (1.26.4)\n",
      "Requirement already satisfied: packaging>=20.0 in c:\\users\\hp\\anaconda3\\envs\\gpu\\lib\\site-packages (from matplotlib) (24.2)\n",
      "Requirement already satisfied: pillow>=8 in c:\\users\\hp\\anaconda3\\envs\\gpu\\lib\\site-packages (from matplotlib) (11.1.0)\n",
      "Requirement already satisfied: pyparsing>=2.3.1 in c:\\users\\hp\\anaconda3\\envs\\gpu\\lib\\site-packages (from matplotlib) (3.2.1)\n",
      "Requirement already satisfied: python-dateutil>=2.7 in c:\\users\\hp\\anaconda3\\envs\\gpu\\lib\\site-packages (from matplotlib) (2.9.0.post0)\n",
      "Requirement already satisfied: six>=1.5 in c:\\users\\hp\\anaconda3\\envs\\gpu\\lib\\site-packages (from python-dateutil>=2.7->matplotlib) (1.16.0)\n"
     ]
    }
   ],
   "source": [
    "!pip install matplotlib"
   ]
  },
  {
   "cell_type": "code",
   "execution_count": 6,
   "metadata": {},
   "outputs": [],
   "source": [
    "import matplotlib.pyplot as plt\n",
    "import matplotlib.image as mimg \n",
    "import random\n",
    "\n",
    "def veiw_Image(t_dir,t_class):\n",
    "    target_folder= t_dir+t_class\n",
    "    r_image = random.sample(os.listdir(target_folder),1)# 1 item sample\n",
    "    img = mimg.imread(target_folder+'/'+r_image[0])\n",
    "    plt.imshow(img)\n",
    "    plt.title(t_class)\n",
    "    plt.axis('off')\n",
    "    print(f\"Image shape: {img.shape}\")\n",
    "    return img"
   ]
  },
  {
   "cell_type": "code",
   "execution_count": 7,
   "metadata": {},
   "outputs": [
    {
     "name": "stdout",
     "output_type": "stream",
     "text": [
      "Image shape: (224, 224, 3)\n"
     ]
    },
    {
     "data": {
      "image/png": "[encoded data removed]",
      "text/plain": [
       "<Figure size 640x480 with 1 Axes>"
      ]
     },
     "metadata": {},
     "output_type": "display_data"
    }
   ],
   "source": [
    "img = veiw_Image(\"../Datasets/Road_Anomaly_Dataset/train/\",\"Snatching\")"
   ]
  },
  {
   "cell_type": "code",
   "execution_count": 8,
   "metadata": {},
   "outputs": [
    {
     "name": "stdout",
     "output_type": "stream",
     "text": [
      "uint8\n"
     ]
    }
   ],
   "source": [
    "# img is an array so we can turn it into tensor\n",
    "print(img.dtype)\n",
    "import tensorflow as tf"
   ]
  },
  {
   "cell_type": "code",
   "execution_count": 11,
   "metadata": {},
   "outputs": [
    {
     "name": "stdout",
     "output_type": "stream",
     "text": [
      "tf.Tensor(\n",
      "[[[ 21  22  17]\n",
      "  [ 24  26  21]\n",
      "  [ 22  26  25]\n",
      "  ...\n",
      "  [ 15   8  15]\n",
      "  [ 15   8  15]\n",
      "  [ 13   7  11]]\n",
      "\n",
      " [[ 25  26  18]\n",
      "  [ 30  33  26]\n",
      "  [ 22  27  20]\n",
      "  ...\n",
      "  [ 16   9  17]\n",
      "  [ 16   9  16]\n",
      "  [ 15   9  13]]\n",
      "\n",
      " [[ 31  32  18]\n",
      "  [ 38  40  26]\n",
      "  [ 37  41  26]\n",
      "  ...\n",
      "  [ 19   9  18]\n",
      "  [ 19   9  17]\n",
      "  [ 18   8  16]]\n",
      "\n",
      " ...\n",
      "\n",
      " [[173 165 154]\n",
      "  [174 166 155]\n",
      "  [176 168 157]\n",
      "  ...\n",
      "  [177  99 121]\n",
      "  [176 101 122]\n",
      "  [175 102 122]]\n",
      "\n",
      " [[173 165 154]\n",
      "  [174 166 155]\n",
      "  [176 168 157]\n",
      "  ...\n",
      "  [177 100 120]\n",
      "  [170  97 116]\n",
      "  [172 101 119]]\n",
      "\n",
      " [[173 165 154]\n",
      "  [174 166 155]\n",
      "  [176 168 157]\n",
      "  ...\n",
      "  [174  97 117]\n",
      "  [174 101 120]\n",
      "  [168  99 117]]], shape=(224, 224, 3), dtype=uint8)\n"
     ]
    }
   ],
   "source": [
    "print(tf.constant(img))"
   ]
  },
  {
   "cell_type": "code",
   "execution_count": 9,
   "metadata": {},
   "outputs": [
    {
     "data": {
      "text/plain": [
       "(224, 224, 3)"
      ]
     },
     "execution_count": 9,
     "metadata": {},
     "output_type": "execute_result"
    }
   ],
   "source": [
    "img.shape #(W,H,channels)"
   ]
  },
  {
   "cell_type": "code",
   "execution_count": 10,
   "metadata": {},
   "outputs": [],
   "source": [
    "# Cnn model to find patterns \n",
    "# Input -> Load Image -> Preprocess -> build CNN -> compile -> fit"
   ]
  },
  {
   "cell_type": "code",
   "execution_count": 11,
   "metadata": {},
   "outputs": [
    {
     "name": "stdout",
     "output_type": "stream",
     "text": [
      "Found 2635 images belonging to 4 classes.\n",
      "Testing images:\n",
      "Found 645 images belonging to 4 classes.\n"
     ]
    }
   ],
   "source": [
    "import tensorflow as tf\n",
    "from tensorflow.keras.preprocessing.image import ImageDataGenerator\n",
    "\n",
    "# seed\n",
    "tf.random.set_seed(45)\n",
    "#Scale and normalize\n",
    "IMAGE_SHAPE = (224, 224)\n",
    "BATCH_SIZE = 32\n",
    "\n",
    "train_datagen = ImageDataGenerator(rescale= 1./255) # Generate batches of data with augmentation\n",
    "valid_datagen = ImageDataGenerator(rescale=1./255)\n",
    "train_dir = '../Datasets/Road_Anomaly_Dataset/train'\n",
    "test_dir = '../Datasets/Road_Anomaly_Dataset/test'\n",
    "val_dir = '../Datasets/Road_Anomaly_Dataset/val'\n",
    "train_data = train_datagen.flow_from_directory(train_dir,\n",
    "                                               target_size=IMAGE_SHAPE,\n",
    "                                               batch_size=BATCH_SIZE,\n",
    "                                               class_mode=\"categorical\")\n",
    "\n",
    "print(\"Testing images:\")\n",
    "test_data = train_datagen.flow_from_directory(test_dir,\n",
    "                                              target_size=IMAGE_SHAPE,\n",
    "                                              batch_size=BATCH_SIZE,\n",
    "                                              class_mode=\"categorical\")\n"
   ]
  },
  {
   "cell_type": "code",
   "execution_count": 12,
   "metadata": {},
   "outputs": [
    {
     "name": "stdout",
     "output_type": "stream",
     "text": [
      "Found 645 images belonging to 4 classes.\n",
      "Found 139 images belonging to 4 classes.\n"
     ]
    }
   ],
   "source": [
    "test_data = train_datagen.flow_from_directory(test_dir, batch_size=32,target_size=(224, 224),seed=45, class_mode='categorical')\n",
    "val_data = valid_datagen.flow_from_directory(val_dir, batch_size=32,target_size=(224, 224),seed=45, class_mode='categorical')"
   ]
  },
  {
   "cell_type": "markdown",
   "metadata": {},
   "source": [
    "# Callbacks\n",
    "(Things to run while our model trains) extra functionality to be performed during or after training.)\n",
    "1. Tensorboard callback: log comparison of many models and   compare these models visually on tensorboard\n",
    "2. Model Checkpoint\n",
    "3. Early Stopping\n"
   ]
  },
  {
   "cell_type": "code",
   "execution_count": 13,
   "metadata": {},
   "outputs": [],
   "source": [
    "# create TFboard callback and we need a afunction which needs to be called each time\n",
    "import datetime\n",
    "import tensorflow as tf\n",
    "def create_tfboard_callback(dir_name, exp_name):\n",
    "    log_dir = dir_name + '/' +exp_name +'/'+datetime.datetime.now()\n",
    "    tensorboard_callback = tf.keras.callbacks.TensorBoard(log_dir=log_dir)\n",
    "    print(f\" Saving tdboard files in {log_dir}\")\n",
    "    return tensorboard_callback"
   ]
  },
  {
   "cell_type": "markdown",
   "metadata": {},
   "source": [
    "# using resources like tensorflowhub and paperswith code we can select pretrained models here we will use efficient net and resnet"
   ]
  },
  {
   "cell_type": "code",
   "execution_count": 25,
   "metadata": {},
   "outputs": [
    {
     "name": "stdout",
     "output_type": "stream",
     "text": [
      "Name: tensorflow\n",
      "Version: 2.18.0\n",
      "Summary: TensorFlow is an open source machine learning framework for everyone.\n",
      "Home-page: https://www.tensorflow.org/\n",
      "Author: Google Inc.\n",
      "Author-email: packages@tensorflow.org\n",
      "License: Apache 2.0\n",
      "Location: c:\\users\\hp\\appdata\\roaming\\python\\python310\\site-packages\n",
      "Requires: tensorflow-intel\n",
      "Required-by: tf_keras\n",
      "---\n",
      "Name: tensorflow-hub\n",
      "Version: 0.16.1\n",
      "Summary: TensorFlow Hub is a library to foster the publication, discovery, and consumption of reusable parts of machine learning models.\n",
      "Home-page: https://github.com/tensorflow/hub\n",
      "Author: Google LLC\n",
      "Author-email: packages@tensorflow.org\n",
      "License: Apache 2.0\n",
      "Location: c:\\users\\hp\\appdata\\roaming\\python\\python310\\site-packages\n",
      "Requires: numpy, protobuf, tf-keras\n",
      "Required-by: \n"
     ]
    }
   ],
   "source": [
    "!pip show tensorflow tensorflow-hub"
   ]
  },
  {
   "cell_type": "code",
   "execution_count": 17,
   "metadata": {},
   "outputs": [
    {
     "name": "stdout",
     "output_type": "stream",
     "text": [
      "Requirement already satisfied: tf_keras in c:\\users\\hp\\appdata\\roaming\\python\\python310\\site-packages (2.18.0)\n",
      "Requirement already satisfied: tensorflow<2.19,>=2.18 in c:\\users\\hp\\appdata\\roaming\\python\\python310\\site-packages (from tf_keras) (2.18.0)\n",
      "Requirement already satisfied: tensorflow-intel==2.18.0 in c:\\users\\hp\\appdata\\roaming\\python\\python310\\site-packages (from tensorflow<2.19,>=2.18->tf_keras) (2.18.0)\n",
      "Requirement already satisfied: absl-py>=1.0.0 in c:\\users\\hp\\anaconda3\\envs\\gpu\\lib\\site-packages (from tensorflow-intel==2.18.0->tensorflow<2.19,>=2.18->tf_keras) (2.1.0)\n",
      "Requirement already satisfied: astunparse>=1.6.0 in c:\\users\\hp\\anaconda3\\envs\\gpu\\lib\\site-packages (from tensorflow-intel==2.18.0->tensorflow<2.19,>=2.18->tf_keras) (1.6.3)\n",
      "Requirement already satisfied: flatbuffers>=24.3.25 in c:\\users\\hp\\anaconda3\\envs\\gpu\\lib\\site-packages (from tensorflow-intel==2.18.0->tensorflow<2.19,>=2.18->tf_keras) (25.1.21)\n",
      "Requirement already satisfied: gast!=0.5.0,!=0.5.1,!=0.5.2,>=0.2.1 in c:\\users\\hp\\anaconda3\\envs\\gpu\\lib\\site-packages (from tensorflow-intel==2.18.0->tensorflow<2.19,>=2.18->tf_keras) (0.4.0)\n",
      "Requirement already satisfied: google-pasta>=0.1.1 in c:\\users\\hp\\anaconda3\\envs\\gpu\\lib\\site-packages (from tensorflow-intel==2.18.0->tensorflow<2.19,>=2.18->tf_keras) (0.2.0)\n",
      "Requirement already satisfied: libclang>=13.0.0 in c:\\users\\hp\\anaconda3\\envs\\gpu\\lib\\site-packages (from tensorflow-intel==2.18.0->tensorflow<2.19,>=2.18->tf_keras) (18.1.1)\n",
      "Requirement already satisfied: opt-einsum>=2.3.2 in c:\\users\\hp\\anaconda3\\envs\\gpu\\lib\\site-packages (from tensorflow-intel==2.18.0->tensorflow<2.19,>=2.18->tf_keras) (3.4.0)\n",
      "Requirement already satisfied: packaging in c:\\users\\hp\\anaconda3\\envs\\gpu\\lib\\site-packages (from tensorflow-intel==2.18.0->tensorflow<2.19,>=2.18->tf_keras) (24.2)\n",
      "Requirement already satisfied: protobuf!=4.21.0,!=4.21.1,!=4.21.2,!=4.21.3,!=4.21.4,!=4.21.5,<6.0.0dev,>=3.20.3 in c:\\users\\hp\\anaconda3\\envs\\gpu\\lib\\site-packages (from tensorflow-intel==2.18.0->tensorflow<2.19,>=2.18->tf_keras) (5.29.3)\n",
      "Requirement already satisfied: requests<3,>=2.21.0 in c:\\users\\hp\\anaconda3\\envs\\gpu\\lib\\site-packages (from tensorflow-intel==2.18.0->tensorflow<2.19,>=2.18->tf_keras) (2.32.3)\n",
      "Requirement already satisfied: setuptools in c:\\users\\hp\\anaconda3\\envs\\gpu\\lib\\site-packages (from tensorflow-intel==2.18.0->tensorflow<2.19,>=2.18->tf_keras) (75.1.0)\n",
      "Requirement already satisfied: six>=1.12.0 in c:\\users\\hp\\anaconda3\\envs\\gpu\\lib\\site-packages (from tensorflow-intel==2.18.0->tensorflow<2.19,>=2.18->tf_keras) (1.16.0)\n",
      "Requirement already satisfied: termcolor>=1.1.0 in c:\\users\\hp\\anaconda3\\envs\\gpu\\lib\\site-packages (from tensorflow-intel==2.18.0->tensorflow<2.19,>=2.18->tf_keras) (2.5.0)\n",
      "Requirement already satisfied: typing-extensions>=3.6.6 in c:\\users\\hp\\anaconda3\\envs\\gpu\\lib\\site-packages (from tensorflow-intel==2.18.0->tensorflow<2.19,>=2.18->tf_keras) (4.12.2)\n",
      "Requirement already satisfied: wrapt>=1.11.0 in c:\\users\\hp\\anaconda3\\envs\\gpu\\lib\\site-packages (from tensorflow-intel==2.18.0->tensorflow<2.19,>=2.18->tf_keras) (1.17.2)\n",
      "Requirement already satisfied: grpcio<2.0,>=1.24.3 in c:\\users\\hp\\anaconda3\\envs\\gpu\\lib\\site-packages (from tensorflow-intel==2.18.0->tensorflow<2.19,>=2.18->tf_keras) (1.69.0)\n",
      "Requirement already satisfied: tensorboard<2.19,>=2.18 in c:\\users\\hp\\anaconda3\\envs\\gpu\\lib\\site-packages (from tensorflow-intel==2.18.0->tensorflow<2.19,>=2.18->tf_keras) (2.18.0)\n",
      "Requirement already satisfied: keras>=3.5.0 in c:\\users\\hp\\anaconda3\\envs\\gpu\\lib\\site-packages (from tensorflow-intel==2.18.0->tensorflow<2.19,>=2.18->tf_keras) (3.8.0)\n",
      "Requirement already satisfied: numpy<2.1.0,>=1.26.0 in c:\\users\\hp\\anaconda3\\envs\\gpu\\lib\\site-packages (from tensorflow-intel==2.18.0->tensorflow<2.19,>=2.18->tf_keras) (1.26.4)\n",
      "Requirement already satisfied: h5py>=3.11.0 in c:\\users\\hp\\anaconda3\\envs\\gpu\\lib\\site-packages (from tensorflow-intel==2.18.0->tensorflow<2.19,>=2.18->tf_keras) (3.12.1)\n",
      "Requirement already satisfied: ml-dtypes<0.5.0,>=0.4.0 in c:\\users\\hp\\anaconda3\\envs\\gpu\\lib\\site-packages (from tensorflow-intel==2.18.0->tensorflow<2.19,>=2.18->tf_keras) (0.4.1)\n",
      "Requirement already satisfied: tensorflow-io-gcs-filesystem>=0.23.1 in c:\\users\\hp\\anaconda3\\envs\\gpu\\lib\\site-packages (from tensorflow-intel==2.18.0->tensorflow<2.19,>=2.18->tf_keras) (0.31.0)\n",
      "Requirement already satisfied: wheel<1.0,>=0.23.0 in c:\\users\\hp\\anaconda3\\envs\\gpu\\lib\\site-packages (from astunparse>=1.6.0->tensorflow-intel==2.18.0->tensorflow<2.19,>=2.18->tf_keras) (0.44.0)\n",
      "Requirement already satisfied: rich in c:\\users\\hp\\anaconda3\\envs\\gpu\\lib\\site-packages (from keras>=3.5.0->tensorflow-intel==2.18.0->tensorflow<2.19,>=2.18->tf_keras) (13.9.4)\n",
      "Requirement already satisfied: namex in c:\\users\\hp\\anaconda3\\envs\\gpu\\lib\\site-packages (from keras>=3.5.0->tensorflow-intel==2.18.0->tensorflow<2.19,>=2.18->tf_keras) (0.0.8)\n",
      "Requirement already satisfied: optree in c:\\users\\hp\\anaconda3\\envs\\gpu\\lib\\site-packages (from keras>=3.5.0->tensorflow-intel==2.18.0->tensorflow<2.19,>=2.18->tf_keras) (0.14.0)\n",
      "Requirement already satisfied: charset-normalizer<4,>=2 in c:\\users\\hp\\anaconda3\\envs\\gpu\\lib\\site-packages (from requests<3,>=2.21.0->tensorflow-intel==2.18.0->tensorflow<2.19,>=2.18->tf_keras) (3.4.1)\n",
      "Requirement already satisfied: idna<4,>=2.5 in c:\\users\\hp\\anaconda3\\envs\\gpu\\lib\\site-packages (from requests<3,>=2.21.0->tensorflow-intel==2.18.0->tensorflow<2.19,>=2.18->tf_keras) (3.10)\n",
      "Requirement already satisfied: urllib3<3,>=1.21.1 in c:\\users\\hp\\anaconda3\\envs\\gpu\\lib\\site-packages (from requests<3,>=2.21.0->tensorflow-intel==2.18.0->tensorflow<2.19,>=2.18->tf_keras) (2.3.0)\n",
      "Requirement already satisfied: certifi>=2017.4.17 in c:\\users\\hp\\anaconda3\\envs\\gpu\\lib\\site-packages (from requests<3,>=2.21.0->tensorflow-intel==2.18.0->tensorflow<2.19,>=2.18->tf_keras) (2024.12.14)\n",
      "Requirement already satisfied: markdown>=2.6.8 in c:\\users\\hp\\anaconda3\\envs\\gpu\\lib\\site-packages (from tensorboard<2.19,>=2.18->tensorflow-intel==2.18.0->tensorflow<2.19,>=2.18->tf_keras) (3.7)\n",
      "Requirement already satisfied: tensorboard-data-server<0.8.0,>=0.7.0 in c:\\users\\hp\\anaconda3\\envs\\gpu\\lib\\site-packages (from tensorboard<2.19,>=2.18->tensorflow-intel==2.18.0->tensorflow<2.19,>=2.18->tf_keras) (0.7.2)\n",
      "Requirement already satisfied: werkzeug>=1.0.1 in c:\\users\\hp\\anaconda3\\envs\\gpu\\lib\\site-packages (from tensorboard<2.19,>=2.18->tensorflow-intel==2.18.0->tensorflow<2.19,>=2.18->tf_keras) (3.1.3)\n",
      "Requirement already satisfied: MarkupSafe>=2.1.1 in c:\\users\\hp\\anaconda3\\envs\\gpu\\lib\\site-packages (from werkzeug>=1.0.1->tensorboard<2.19,>=2.18->tensorflow-intel==2.18.0->tensorflow<2.19,>=2.18->tf_keras) (3.0.2)\n",
      "Requirement already satisfied: markdown-it-py>=2.2.0 in c:\\users\\hp\\anaconda3\\envs\\gpu\\lib\\site-packages (from rich->keras>=3.5.0->tensorflow-intel==2.18.0->tensorflow<2.19,>=2.18->tf_keras) (3.0.0)\n",
      "Requirement already satisfied: pygments<3.0.0,>=2.13.0 in c:\\users\\hp\\anaconda3\\envs\\gpu\\lib\\site-packages (from rich->keras>=3.5.0->tensorflow-intel==2.18.0->tensorflow<2.19,>=2.18->tf_keras) (2.15.1)\n",
      "Requirement already satisfied: mdurl~=0.1 in c:\\users\\hp\\anaconda3\\envs\\gpu\\lib\\site-packages (from markdown-it-py>=2.2.0->rich->keras>=3.5.0->tensorflow-intel==2.18.0->tensorflow<2.19,>=2.18->tf_keras) (0.1.2)\n"
     ]
    }
   ],
   "source": [
    "!pip install tf_keras"
   ]
  },
  {
   "cell_type": "code",
   "execution_count": 20,
   "metadata": {},
   "outputs": [],
   "source": [
    "# import tensorflow as tf\n",
    "# print(tf.__version__)\n",
    "import tf_keras\n",
    "import tensorflow_hub as hub\n",
    "# m1 = tf.keras.Sequential([\n",
    "#     hub.KerasLayer(\"https://www.kaggle.com/models/tensorflow/efficientnet/TensorFlow2/b0-classification/1\")\n",
    "# ])\n",
    "# # m1.build([None, expect_img_size, expect_img_size, 3])  # Batch input shape.\n",
    "\n",
    "# # import tensorflow_hub as hub\n",
    "# m2 = tf.keras.Sequential([\n",
    "#     hub.KerasLayer(\"https://www.kaggle.com/models/google/resnet-v2/TensorFlow2/101-classification/2\")\n",
    "# ])\n",
    "# m2.build([None, 224, 224, 3])  # Batch input shape.\n",
    "\n",
    "# Not supporting my tensorflow version\n",
    "\n",
    "m1 =\"https://www.kaggle.com/models/tensorflow/efficientnet/TensorFlow2/b0-classification/1\"\n",
    "m2 = \"https://www.kaggle.com/models/google/resnet-v2/TensorFlow2/101-classification/2\"\n",
    "\n",
    "# classifier_model1 = m1\n",
    "# classifier_model2 = m2\n",
    "\n",
    "# IMAGE_SHAPE = (224, 224)\n",
    "\n",
    "# classifier1 = tf_keras.Sequential([\n",
    "#     hub.KerasLayer(classifier_model1, input_shape=IMAGE_SHAPE+(3,))\n",
    "# ])\n",
    "# classifier1 = tf_keras.Sequential([\n",
    "#     hub.KerasLayer(classifier_model1, input_shape=IMAGE_SHAPE+(3,))\n",
    "# ])\n"
   ]
  },
  {
   "cell_type": "markdown",
   "metadata": {},
   "source": [
    "# Tensorflow URL taken to get a sequential model with keras\n",
    "number of output neurons = total number of classes"
   ]
  },
  {
   "cell_type": "code",
   "execution_count": 36,
   "metadata": {},
   "outputs": [],
   "source": [
    "def create_model(url,num_classes=4):\n",
    "    classifier = tf_keras.Sequential([\n",
    "    hub.KerasLayer(url, input_shape=IMAGE_SHAPE+(3,))\n",
    "    ])\n",
    "    model = tf_keras.Sequential([classifier,\n",
    "            tf_keras.layers.Dense(num_classes,activation=\"softmax\",name=\"Output_Layer\")])\n",
    "    return model\n",
    "    # return classifier"
   ]
  },
  {
   "cell_type": "code",
   "execution_count": 37,
   "metadata": {},
   "outputs": [],
   "source": [
    "model1 = create_model(m1,4)"
   ]
  },
  {
   "cell_type": "code",
   "execution_count": 38,
   "metadata": {},
   "outputs": [
    {
     "name": "stdout",
     "output_type": "stream",
     "text": [
      "Model: \"sequential_9\"\n",
      "_________________________________________________________________\n",
      " Layer (type)                Output Shape              Param #   \n",
      "=================================================================\n",
      " sequential_8 (Sequential)   (None, 1000)              5330564   \n",
      "                                                                 \n",
      " Output_Layer (Dense)        (None, 4)                 4004      \n",
      "                                                                 \n",
      "=================================================================\n",
      "Total params: 5334568 (20.35 MB)\n",
      "Trainable params: 4004 (15.64 KB)\n",
      "Non-trainable params: 5330564 (20.33 MB)\n",
      "_________________________________________________________________\n"
     ]
    }
   ],
   "source": [
    "model1.summary()"
   ]
  },
  {
   "cell_type": "code",
   "execution_count": 40,
   "metadata": {},
   "outputs": [],
   "source": [
    "model1.compile(loss =\"categorical_crossentropy\",\n",
    "               optimizer = tf_keras.optimizers.Adam(),\n",
    "               metrics= [\"accuracy\"])"
   ]
  },
  {
   "cell_type": "code",
   "execution_count": null,
   "metadata": {},
   "outputs": [],
   "source": []
  }
 ],
 "metadata": {
  "kernelspec": {
   "display_name": "gpu",
   "language": "python",
   "name": "python3"
  },
  "language_info": {
   "codemirror_mode": {
    "name": "ipython",
    "version": 3
   },
   "file_extension": ".py",
   "mimetype": "text/x-python",
   "name": "python",
   "nbconvert_exporter": "python",
   "pygments_lexer": "ipython3",
   "version": "3.10.16"
  }
 },
 "nbformat": 4,
 "nbformat_minor": 2
}
