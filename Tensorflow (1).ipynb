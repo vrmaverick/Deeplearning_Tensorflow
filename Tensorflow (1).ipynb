{
  "nbformat": 4,
  "nbformat_minor": 0,
  "metadata": {
    "colab": {
      "provenance": []
    },
    "kernelspec": {
      "name": "python3",
      "display_name": "Python 3"
    },
    "language_info": {
      "name": "python"
    }
  },
  "cells": [
    {
      "cell_type": "code",
      "execution_count": 1,
      "metadata": {
        "id": "y6ABNC4WsQcI"
      },
      "outputs": [],
      "source": [
        "import tensorflow as tf"
      ]
    },
    {
      "cell_type": "code",
      "source": [
        "tf.__version__"
      ],
      "metadata": {
        "colab": {
          "base_uri": "https://localhost:8080/",
          "height": 36
        },
        "id": "hKvUw6ZQse47",
        "outputId": "d45d1146-6487-48ab-c720-3c20797cc2dc"
      },
      "execution_count": 2,
      "outputs": [
        {
          "output_type": "execute_result",
          "data": {
            "text/plain": [
              "'2.15.0'"
            ],
            "application/vnd.google.colaboratory.intrinsic+json": {
              "type": "string"
            }
          },
          "metadata": {},
          "execution_count": 2
        }
      ]
    },
    {
      "cell_type": "code",
      "source": [
        "scalar = tf.constant(7)\n",
        "print(scalar)\n",
        "print(scalar.ndim) #number of dimensions"
      ],
      "metadata": {
        "colab": {
          "base_uri": "https://localhost:8080/"
        },
        "id": "YPt3tnkPskYg",
        "outputId": "a7944038-cdae-48f3-f24c-03871f0d5093"
      },
      "execution_count": null,
      "outputs": [
        {
          "output_type": "stream",
          "name": "stdout",
          "text": [
            "tf.Tensor(7, shape=(), dtype=int32)\n",
            "0\n"
          ]
        }
      ]
    },
    {
      "cell_type": "code",
      "source": [
        "vector = tf.constant([26,12])\n",
        "print(vector)\n",
        "print(vector.ndim) #number of dimensions"
      ],
      "metadata": {
        "colab": {
          "base_uri": "https://localhost:8080/"
        },
        "id": "IvW22PQis5X7",
        "outputId": "b4d02441-7b59-4911-986e-2c4bbd670b29"
      },
      "execution_count": null,
      "outputs": [
        {
          "output_type": "stream",
          "name": "stdout",
          "text": [
            "tf.Tensor([26 12], shape=(2,), dtype=int32)\n",
            "1\n"
          ]
        }
      ]
    },
    {
      "cell_type": "code",
      "source": [
        "matrix = tf.constant([[26,12],[9,11]])\n",
        "print(matrix)\n",
        "print(matrix.ndim) #number of dimensions"
      ],
      "metadata": {
        "colab": {
          "base_uri": "https://localhost:8080/"
        },
        "id": "WfLXMQ3btB0O",
        "outputId": "264e3b97-796a-45d1-87a6-9976030aefd5"
      },
      "execution_count": null,
      "outputs": [
        {
          "output_type": "stream",
          "name": "stdout",
          "text": [
            "tf.Tensor(\n",
            "[[26 12]\n",
            " [ 9 11]], shape=(2, 2), dtype=int32)\n",
            "2\n"
          ]
        }
      ]
    },
    {
      "cell_type": "code",
      "source": [
        "matrix = tf.constant([[26,12],[9,11]],dtype =tf.float16) #chnaging dtype\n",
        "print(matrix)\n",
        "print(matrix.ndim) #number of dimensions"
      ],
      "metadata": {
        "colab": {
          "base_uri": "https://localhost:8080/"
        },
        "id": "E3FZ693AttTH",
        "outputId": "7e95c7ef-bb76-4cb8-e4c6-07f694c199e4"
      },
      "execution_count": null,
      "outputs": [
        {
          "output_type": "stream",
          "name": "stdout",
          "text": [
            "tf.Tensor(\n",
            "[[26. 12.]\n",
            " [ 9. 11.]], shape=(2, 2), dtype=float16)\n",
            "2\n"
          ]
        }
      ]
    },
    {
      "cell_type": "markdown",
      "source": [
        "# tf.Variable()"
      ],
      "metadata": {
        "id": "nQhzsm_Vv_dR"
      }
    },
    {
      "cell_type": "code",
      "source": [
        "changeable_tensor = tf.Variable([13, 34])\n",
        "unchanageble = tf.constant([12,26])"
      ],
      "metadata": {
        "id": "ueXL9-lpuRsd"
      },
      "execution_count": null,
      "outputs": []
    },
    {
      "cell_type": "code",
      "source": [
        "print(changeable_tensor)"
      ],
      "metadata": {
        "colab": {
          "base_uri": "https://localhost:8080/"
        },
        "id": "PxysyHBgx7Q3",
        "outputId": "e338a337-42d4-4661-e421-9d4fdd927959"
      },
      "execution_count": null,
      "outputs": [
        {
          "output_type": "stream",
          "name": "stdout",
          "text": [
            "<tf.Variable 'Variable:0' shape=(2,) dtype=int32, numpy=array([13, 34], dtype=int32)>\n"
          ]
        }
      ]
    },
    {
      "cell_type": "code",
      "source": [
        "# changeable_tensor.append([12,26]) ..........NO append works for this instead use assign\n",
        "# print(changeable_tensor)"
      ],
      "metadata": {
        "id": "6y4vIy2cx_YF"
      },
      "execution_count": null,
      "outputs": []
    },
    {
      "cell_type": "code",
      "source": [
        "# Now you can use .assign()\n",
        "changeable_tensor[0].assign(12,67)\n",
        "print(changeable_tensor)\n",
        "\n",
        "# We can use assign() on unchanagable tensors or constants which are specially designed to keep the tensor value consistent"
      ],
      "metadata": {
        "colab": {
          "base_uri": "https://localhost:8080/"
        },
        "id": "uLbD7b4YyBUr",
        "outputId": "8c8a2464-390a-44fe-cf0a-fd5051f82779"
      },
      "execution_count": null,
      "outputs": [
        {
          "output_type": "stream",
          "name": "stdout",
          "text": [
            "<tf.Variable 'Variable:0' shape=(2,) dtype=int32, numpy=array([12, 34], dtype=int32)>\n"
          ]
        }
      ]
    },
    {
      "cell_type": "markdown",
      "source": [
        "### Random Tensor"
      ],
      "metadata": {
        "id": "KF5dfq2TYD5v"
      }
    },
    {
      "cell_type": "code",
      "source": [
        "random = tf.random.Generator.from_seed(8)\n",
        "random =random.normal(shape=(10,20)) # distributions can be normal , uniform\n",
        "print(random)"
      ],
      "metadata": {
        "id": "M2zwxOBe0FbG",
        "colab": {
          "base_uri": "https://localhost:8080/"
        },
        "outputId": "7eca8126-2a52-44b3-9731-1abf019d5d2e"
      },
      "execution_count": 7,
      "outputs": [
        {
          "output_type": "stream",
          "name": "stdout",
          "text": [
            "tf.Tensor(\n",
            "[[ 0.69211644  0.84215707 -0.06378496  0.92800784 -0.6039789  -0.1766927\n",
            "   0.04221033  0.29037967 -0.29604465 -0.21134205  0.01063002  1.5165398\n",
            "   0.27305737 -0.29925638 -0.3652325   0.61883307 -1.0130816   0.28291714\n",
            "   1.2132233   0.46988967]\n",
            " [ 0.37944323 -0.6664026   0.6054596   0.19181173  0.8045827   0.4769051\n",
            "  -0.7812124  -0.996891    0.33149973 -0.5445254   1.5222508   0.59303206\n",
            "  -0.63509274  0.3703566  -1.0939722  -0.4601445   1.5420506  -0.16822556\n",
            "  -0.4390865  -0.4129243 ]\n",
            " [ 0.35877243 -1.9095894  -0.2094769   0.8286217  -0.06695071 -0.35105535\n",
            "   1.0884082  -1.3863064   0.88051325 -1.6833194   0.86754173 -0.19625713\n",
            "  -1.322665   -0.02279496 -0.1383193   0.44207528 -0.7531523   2.0261486\n",
            "  -0.06997604  0.85445154]\n",
            " [ 0.1175475   0.03493892 -1.5700307   0.4457582   0.10944034 -0.8035768\n",
            "  -1.7166729   0.3738578  -0.14371012 -0.34646833  1.1456194  -0.416\n",
            "   0.43369916  1.0241015  -0.74785167 -0.59090924 -1.2060374   0.8307429\n",
            "   1.0951619   1.3672234 ]\n",
            " [-0.54532146  1.9302735  -0.3151453  -0.8761205  -2.7316678  -0.15730922\n",
            "   1.3692921  -0.4367834   0.8357487   0.20849545  1.4040174  -2.735283\n",
            "   1.2232229  -1.8653691   0.00511209 -1.0493753   0.7901182   1.585549\n",
            "   0.4356279   0.2364518 ]\n",
            " [-0.1589871   1.302304    0.9592239   0.85874265 -1.5181769   1.4020647\n",
            "   1.5570306  -0.96762174  0.495291   -0.648484   -1.8700892   2.7830641\n",
            "  -0.645002    0.18022095 -0.14656258  0.34374258  0.41367555  0.17573498\n",
            "  -1.0871261   0.45905176]\n",
            " [ 0.20386009  0.562024   -2.3001142  -1.349454    0.81485     1.2790666\n",
            "   0.02203509  1.5428121   0.78953624  0.53897345 -0.48535708  0.74055266\n",
            "   0.31662667 -1.4391748   0.58923835 -1.4268045  -0.7565803  -0.06854702\n",
            "   0.07595026 -1.2573844 ]\n",
            " [-0.23193763 -1.8107855   0.09988727 -0.50998646 -0.7535805  -0.57166284\n",
            "   0.1480774  -0.23362993 -0.3522796   0.40621263 -1.0523509   1.2054597\n",
            "   1.6874489  -0.4462975  -2.3410842   0.99009085 -0.0876323  -0.635568\n",
            "  -0.6161736  -1.9441465 ]\n",
            " [-0.48293006 -0.52447474 -1.0345329   1.3066901  -1.5184573  -0.4585211\n",
            "   0.5714663  -1.5331722   0.45331386  1.1487608  -1.2659091  -0.47450137\n",
            "   2.006022    0.28288034 -0.30288252 -1.443651    1.0034493   0.20857747\n",
            "   0.35700995  1.0648885 ]\n",
            " [ 1.2432485  -2.2173238   0.18706243  0.6617961   0.01380118 -0.24827152\n",
            "   1.2111493  -0.7199124  -0.04082382  2.6791053   1.0914806   0.33149615\n",
            "  -0.67958915  0.44723678 -0.17811584  0.24882518  0.49689844  0.8259971\n",
            "   1.0340209  -0.24918638]], shape=(10, 20), dtype=float32)\n"
          ]
        }
      ]
    },
    {
      "cell_type": "code",
      "source": [
        "random1 = tf.random.Generator.from_seed(8)\n",
        "random1 =random1.uniform(shape=(10,20)) # distributions can be normal , uniform\n",
        "print(random1)"
      ],
      "metadata": {
        "colab": {
          "base_uri": "https://localhost:8080/"
        },
        "id": "xxfc1uMib6Km",
        "outputId": "e8b4b3ee-0da1-4361-973a-66c5d566eaba"
      },
      "execution_count": 8,
      "outputs": [
        {
          "output_type": "stream",
          "name": "stdout",
          "text": [
            "tf.Tensor(\n",
            "[[0.5520444  0.10948515 0.6487982  0.9890779  0.8203654  0.70470357\n",
            "  0.9578625  0.02297425 0.93598676 0.6513264  0.31663585 0.00111556\n",
            "  0.9212191  0.3822806  0.77246034 0.91514194 0.5751133  0.793342\n",
            "  0.4289763  0.19118965]\n",
            " [0.7452506  0.41762006 0.8173511  0.20117116 0.6457157  0.16484237\n",
            "  0.4484123  0.6057888  0.816115   0.4129653  0.2632984  0.19087589\n",
            "  0.7631861  0.8340243  0.49447727 0.6866319  0.300259   0.26729417\n",
            "  0.83389175 0.62988555]\n",
            " [0.15143108 0.47044265 0.69402504 0.9605911  0.93813527 0.5299927\n",
            "  0.21156156 0.3940668  0.16456759 0.42329657 0.6732943  0.28540838\n",
            "  0.41686988 0.74725735 0.8982729  0.95173836 0.09668875 0.94335854\n",
            "  0.6924689  0.98699486]\n",
            " [0.9925091  0.20401764 0.26398885 0.79402816 0.71974635 0.47845697\n",
            "  0.21366036 0.78412795 0.93207085 0.5625777  0.47580373 0.30543637\n",
            "  0.5387846  0.06375635 0.634938   0.6435729  0.3422103  0.8459996\n",
            "  0.21559799 0.10748649]\n",
            " [0.1337657  0.95617914 0.6482675  0.55495536 0.02367401 0.74084485\n",
            "  0.35598373 0.29914415 0.6900625  0.21108961 0.00885725 0.42452395\n",
            "  0.08308113 0.40762496 0.5765996  0.49922466 0.20822704 0.07357836\n",
            "  0.88440466 0.17085445]\n",
            " [0.42289293 0.9806658  0.43658388 0.13378775 0.11820638 0.8686751\n",
            "  0.1863147  0.33849728 0.71682584 0.39619052 0.00361979 0.9058354\n",
            "  0.79911244 0.7933638  0.9325619  0.93585527 0.9039284  0.18606544\n",
            "  0.4984331  0.81359017]\n",
            " [0.83634424 0.05538046 0.02855921 0.6655563  0.3166381  0.09027731\n",
            "  0.30410647 0.00227296 0.6332247  0.15466881 0.6757076  0.90766454\n",
            "  0.33765244 0.4655341  0.30376935 0.43766797 0.7493447  0.73561966\n",
            "  0.45230794 0.49039817]\n",
            " [0.1889317  0.52027524 0.8736881  0.46921718 0.63932586 0.6467117\n",
            "  0.96246755 0.41009164 0.86540747 0.8862978  0.27795732 0.8857763\n",
            "  0.2179842  0.29115117 0.03953862 0.8136791  0.8139852  0.52180684\n",
            "  0.12496924 0.5488483 ]\n",
            " [0.7755773  0.6184403  0.24936223 0.89341843 0.28422844 0.70332646\n",
            "  0.2622137  0.4432162  0.466465   0.05981874 0.40098202 0.69292355\n",
            "  0.1284684  0.22770369 0.33691216 0.5329138  0.5914326  0.21738243\n",
            "  0.5322075  0.05148339]\n",
            " [0.03951418 0.41866875 0.78939915 0.04384279 0.96955836 0.49116182\n",
            "  0.3706199  0.33535397 0.02760839 0.99757504 0.52172756 0.20307171\n",
            "  0.7182547  0.84263575 0.9542595  0.90112185 0.62839293 0.08619452\n",
            "  0.5679928  0.28763676]], shape=(10, 20), dtype=float32)\n"
          ]
        }
      ]
    },
    {
      "cell_type": "code",
      "source": [
        "random == random1"
      ],
      "metadata": {
        "colab": {
          "base_uri": "https://localhost:8080/"
        },
        "id": "NXPRAxqbcB84",
        "outputId": "1401fffd-11d9-45bc-e0c7-7e4ec83ff464"
      },
      "execution_count": 9,
      "outputs": [
        {
          "output_type": "execute_result",
          "data": {
            "text/plain": [
              "<tf.Tensor: shape=(10, 20), dtype=bool, numpy=\n",
              "array([[False, False, False, False, False, False, False, False, False,\n",
              "        False, False, False, False, False, False, False, False, False,\n",
              "        False, False],\n",
              "       [False, False, False, False, False, False, False, False, False,\n",
              "        False, False, False, False, False, False, False, False, False,\n",
              "        False, False],\n",
              "       [False, False, False, False, False, False, False, False, False,\n",
              "        False, False, False, False, False, False, False, False, False,\n",
              "        False, False],\n",
              "       [False, False, False, False, False, False, False, False, False,\n",
              "        False, False, False, False, False, False, False, False, False,\n",
              "        False, False],\n",
              "       [False, False, False, False, False, False, False, False, False,\n",
              "        False, False, False, False, False, False, False, False, False,\n",
              "        False, False],\n",
              "       [False, False, False, False, False, False, False, False, False,\n",
              "        False, False, False, False, False, False, False, False, False,\n",
              "        False, False],\n",
              "       [False, False, False, False, False, False, False, False, False,\n",
              "        False, False, False, False, False, False, False, False, False,\n",
              "        False, False],\n",
              "       [False, False, False, False, False, False, False, False, False,\n",
              "        False, False, False, False, False, False, False, False, False,\n",
              "        False, False],\n",
              "       [False, False, False, False, False, False, False, False, False,\n",
              "        False, False, False, False, False, False, False, False, False,\n",
              "        False, False],\n",
              "       [False, False, False, False, False, False, False, False, False,\n",
              "        False, False, False, False, False, False, False, False, False,\n",
              "        False, False]])>"
            ]
          },
          "metadata": {},
          "execution_count": 9
        }
      ]
    },
    {
      "cell_type": "markdown",
      "source": [
        "# Shuffling the tensors"
      ],
      "metadata": {
        "id": "LFvWcpWtc0db"
      }
    },
    {
      "cell_type": "code",
      "source": [
        "x = tf.constant([[10,11,12],[13,14,15],\n",
        "                [16,17,18]])"
      ],
      "metadata": {
        "id": "lqoSdqznctfA"
      },
      "execution_count": 11,
      "outputs": []
    },
    {
      "cell_type": "code",
      "source": [
        "tf.random.set_seed(50) # golabl level seed\n",
        "tf.random.shuffle(x,seed=20) #operational level seed can be set yet gives diffrent results if the global seed is not mentioned ....it is default\n"
      ],
      "metadata": {
        "colab": {
          "base_uri": "https://localhost:8080/"
        },
        "id": "HqyoqSwh1IZM",
        "outputId": "6d11cab1-bdf5-4e45-8594-d995985bdf91"
      },
      "execution_count": 31,
      "outputs": [
        {
          "output_type": "execute_result",
          "data": {
            "text/plain": [
              "<tf.Tensor: shape=(3, 3), dtype=int32, numpy=\n",
              "array([[10, 11, 12],\n",
              "       [16, 17, 18],\n",
              "       [13, 14, 15]], dtype=int32)>"
            ]
          },
          "metadata": {},
          "execution_count": 31
        }
      ]
    },
    {
      "cell_type": "markdown",
      "source": [
        ">tf.random.set_seed(42): Sets the global random seed, making the overall random operations in TensorFlow deterministic.\n",
        "\n",
        ">tf.random.shuffle(x, seed=45): Sets the operation-specific seed, making this particular shuffle operation deterministic given the global seed.\n",
        "\n",
        "> Both seeds are required to ensure that the shuffle operation produces the same result every time you run your script."
      ],
      "metadata": {
        "id": "yeL-wZOnG9bw"
      }
    },
    {
      "cell_type": "code",
      "source": [
        "x = tf.ones(shape=(10,3))"
      ],
      "metadata": {
        "colab": {
          "base_uri": "https://localhost:8080/"
        },
        "id": "CtP4kHaO1dAA",
        "outputId": "268c9e7f-8a0d-48e6-bcd9-b61e87ef7332"
      },
      "execution_count": 32,
      "outputs": [
        {
          "output_type": "execute_result",
          "data": {
            "text/plain": [
              "<tf.Tensor: shape=(10, 3), dtype=float32, numpy=\n",
              "array([[1., 1., 1.],\n",
              "       [1., 1., 1.],\n",
              "       [1., 1., 1.],\n",
              "       [1., 1., 1.],\n",
              "       [1., 1., 1.],\n",
              "       [1., 1., 1.],\n",
              "       [1., 1., 1.],\n",
              "       [1., 1., 1.],\n",
              "       [1., 1., 1.],\n",
              "       [1., 1., 1.]], dtype=float32)>"
            ]
          },
          "metadata": {},
          "execution_count": 32
        }
      ]
    },
    {
      "cell_type": "code",
      "source": [
        "tf.zeros(shape=(10,3))"
      ],
      "metadata": {
        "colab": {
          "base_uri": "https://localhost:8080/"
        },
        "id": "LjIyCYt6Hkk-",
        "outputId": "12896d1d-e343-4cef-c890-ff3535558952"
      },
      "execution_count": 37,
      "outputs": [
        {
          "output_type": "execute_result",
          "data": {
            "text/plain": [
              "<tf.Tensor: shape=(10, 3), dtype=float32, numpy=\n",
              "array([[0., 0., 0.],\n",
              "       [0., 0., 0.],\n",
              "       [0., 0., 0.],\n",
              "       [0., 0., 0.],\n",
              "       [0., 0., 0.],\n",
              "       [0., 0., 0.],\n",
              "       [0., 0., 0.],\n",
              "       [0., 0., 0.],\n",
              "       [0., 0., 0.],\n",
              "       [0., 0., 0.]], dtype=float32)>"
            ]
          },
          "metadata": {},
          "execution_count": 37
        }
      ]
    },
    {
      "cell_type": "markdown",
      "source": [
        "# using numpy\n"
      ],
      "metadata": {
        "id": "Lhr0WfGzJH4m"
      }
    },
    {
      "cell_type": "code",
      "source": [
        "import numpy as np\n",
        "arr = np.arange(1,25,dtype=np.float16) # default is np.int32"
      ],
      "metadata": {
        "id": "OOpJJZQdHpnN"
      },
      "execution_count": 41,
      "outputs": []
    },
    {
      "cell_type": "code",
      "source": [
        "a = tf.constant(value = arr,shape=(2,3,4))\n",
        "b = tf.constant(value = arr)\n",
        "a,b"
      ],
      "metadata": {
        "colab": {
          "base_uri": "https://localhost:8080/"
        },
        "id": "li7osCmTJPiF",
        "outputId": "0190378a-2a46-40f9-fe23-2f046cfa5349"
      },
      "execution_count": 46,
      "outputs": [
        {
          "output_type": "execute_result",
          "data": {
            "text/plain": [
              "(<tf.Tensor: shape=(2, 3, 4), dtype=float16, numpy=\n",
              " array([[[ 1.,  2.,  3.,  4.],\n",
              "         [ 5.,  6.,  7.,  8.],\n",
              "         [ 9., 10., 11., 12.]],\n",
              " \n",
              "        [[13., 14., 15., 16.],\n",
              "         [17., 18., 19., 20.],\n",
              "         [21., 22., 23., 24.]]], dtype=float16)>,\n",
              " <tf.Tensor: shape=(24,), dtype=float16, numpy=\n",
              " array([ 1.,  2.,  3.,  4.,  5.,  6.,  7.,  8.,  9., 10., 11., 12., 13.,\n",
              "        14., 15., 16., 17., 18., 19., 20., 21., 22., 23., 24.],\n",
              "       dtype=float16)>)"
            ]
          },
          "metadata": {},
          "execution_count": 46
        }
      ]
    },
    {
      "cell_type": "code",
      "source": [
        "def describe(x):\n",
        "  print(\"Shape :\",x.shape)\n",
        "  print(\"Datatype of each element : \",x.dtype)\n",
        "  print(\"Dimensions of the element : \",x.ndim)\n",
        "  print(\"First axis Element : \",x[0])\n",
        "  print(\"Last axis Element : \",x[-1])\n",
        "  print(\"Total elements : \", tf.size(x))"
      ],
      "metadata": {
        "id": "c42McWJ6L93B"
      },
      "execution_count": 56,
      "outputs": []
    },
    {
      "cell_type": "code",
      "source": [
        "z = tf.zeros(shape=(2,3,4,5))\n",
        "describe(z)"
      ],
      "metadata": {
        "colab": {
          "base_uri": "https://localhost:8080/"
        },
        "id": "LSQJXaNYJ-sV",
        "outputId": "c7024088-cf54-460e-d955-1c520d9b51de"
      },
      "execution_count": 57,
      "outputs": [
        {
          "output_type": "stream",
          "name": "stdout",
          "text": [
            "Shape : (2, 3, 4, 5)\n",
            "Datatype of each element :  <dtype: 'float32'>\n",
            "Dimensions of the element :  4\n",
            "First axis Element :  tf.Tensor(\n",
            "[[[0. 0. 0. 0. 0.]\n",
            "  [0. 0. 0. 0. 0.]\n",
            "  [0. 0. 0. 0. 0.]\n",
            "  [0. 0. 0. 0. 0.]]\n",
            "\n",
            " [[0. 0. 0. 0. 0.]\n",
            "  [0. 0. 0. 0. 0.]\n",
            "  [0. 0. 0. 0. 0.]\n",
            "  [0. 0. 0. 0. 0.]]\n",
            "\n",
            " [[0. 0. 0. 0. 0.]\n",
            "  [0. 0. 0. 0. 0.]\n",
            "  [0. 0. 0. 0. 0.]\n",
            "  [0. 0. 0. 0. 0.]]], shape=(3, 4, 5), dtype=float32)\n",
            "Last axis Element :  tf.Tensor(\n",
            "[[[0. 0. 0. 0. 0.]\n",
            "  [0. 0. 0. 0. 0.]\n",
            "  [0. 0. 0. 0. 0.]\n",
            "  [0. 0. 0. 0. 0.]]\n",
            "\n",
            " [[0. 0. 0. 0. 0.]\n",
            "  [0. 0. 0. 0. 0.]\n",
            "  [0. 0. 0. 0. 0.]\n",
            "  [0. 0. 0. 0. 0.]]\n",
            "\n",
            " [[0. 0. 0. 0. 0.]\n",
            "  [0. 0. 0. 0. 0.]\n",
            "  [0. 0. 0. 0. 0.]\n",
            "  [0. 0. 0. 0. 0.]]], shape=(3, 4, 5), dtype=float32)\n",
            "Total elements :  tf.Tensor(120, shape=(), dtype=int32)\n"
          ]
        }
      ]
    },
    {
      "cell_type": "code",
      "source": [],
      "metadata": {
        "id": "hpeulOO6L7cp"
      },
      "execution_count": null,
      "outputs": []
    }
  ]
}