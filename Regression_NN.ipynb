{
  "nbformat": 4,
  "nbformat_minor": 0,
  "metadata": {
    "colab": {
      "provenance": []
    },
    "kernelspec": {
      "name": "python3",
      "display_name": "Python 3"
    },
    "language_info": {
      "name": "python"
    }
  },
  "cells": [
    {
      "cell_type": "markdown",
      "source": [
        "We Will be implementing Regression using Neural Network , i.e Predicting values of dependent variable using independent input features"
      ],
      "metadata": {
        "id": "Ft9pH20qLrna"
      }
    },
    {
      "cell_type": "code",
      "execution_count": 25,
      "metadata": {
        "colab": {
          "base_uri": "https://localhost:8080/"
        },
        "id": "FyVfcf6q_-Oo",
        "outputId": "786c223a-21ee-4e20-b51f-7ed7f728c420"
      },
      "outputs": [
        {
          "output_type": "stream",
          "name": "stdout",
          "text": [
            "2.15.0\n"
          ]
        }
      ],
      "source": [
        "import tensorflow as tf\n",
        "print(tf.__version__)"
      ]
    },
    {
      "cell_type": "code",
      "source": [
        "import numpy as np\n",
        "import matplotlib.pyplot as plt"
      ],
      "metadata": {
        "id": "3wvuEUYeMINB"
      },
      "execution_count": 26,
      "outputs": []
    },
    {
      "cell_type": "code",
      "source": [
        "# Basic Regression Formulation using Numpy\n",
        "\n",
        "a = np.array([1,2,3,4,5,6,7,8,9,10])\n",
        "b= np.array([2,4,6,8,10,12,14,16,18,20])\n",
        "\n",
        "# (y = 2x)\n",
        "# For accessing we use x[0].ndim we gwt no dimensions as it is an array of scalar values and no dimensions\n",
        "plt.scatter(a,b)\n",
        "plt.show()"
      ],
      "metadata": {
        "colab": {
          "base_uri": "https://localhost:8080/",
          "height": 430
        },
        "id": "-OUdSaYFMcGD",
        "outputId": "e6a46c9c-bbfa-43b9-a0b8-89df6f8339e7"
      },
      "execution_count": 27,
      "outputs": [
        {
          "output_type": "display_data",
          "data": {
            "text/plain": [
              "<Figure size 640x480 with 1 Axes>"
            ],
            "image/png": "[encoded data removed]"
          },
          "metadata": {}
        }
      ]
    },
    {
      "cell_type": "code",
      "source": [
        "# Using Tensorflow or tensors\n",
        "\n",
        "House_features = tf.constant([\"Bedrooms\",\"Bathrooms\",\"Area\"])\n",
        "Price = tf.constant([74000])\n",
        "\n",
        "print(House_features,Price)\n",
        "print(f\"Input Features Shape : {House_features.shape}\")\n",
        "print(f\"Output Shape : {Price.shape}\")"
      ],
      "metadata": {
        "colab": {
          "base_uri": "https://localhost:8080/"
        },
        "id": "8A5S0rOJNF2s",
        "outputId": "35b2b1bc-8e18-4315-ebd1-0a0e4e36dd1d"
      },
      "execution_count": 28,
      "outputs": [
        {
          "output_type": "stream",
          "name": "stdout",
          "text": [
            "tf.Tensor([b'Bedrooms' b'Bathrooms' b'Area'], shape=(3,), dtype=string) tf.Tensor([74000], shape=(1,), dtype=int32)\n",
            "Input Features Shape : (3,)\n",
            "Output Shape : (1,)\n"
          ]
        }
      ]
    },
    {
      "cell_type": "markdown",
      "source": [
        "# Converting numpy arrays to tensors\n",
        "\n",
        "---\n",
        "\n"
      ],
      "metadata": {
        "id": "1lucc7uB51cT"
      }
    },
    {
      "cell_type": "code",
      "source": [
        "X = tf.constant(a)\n",
        "y = tf.constant(b)"
      ],
      "metadata": {
        "id": "W6FAhcNYNpnf"
      },
      "execution_count": 29,
      "outputs": []
    },
    {
      "cell_type": "code",
      "source": [
        "print(X,y)\n",
        "print(f\"Shape of X : {X.shape},  y : {y.shape}\")\n",
        "#But it is a regression probelm so we need X[] scalar value to predict a scalar value y[] respectively\n",
        "print(X[1].shape) # void means 0 dimensions or scalar value"
      ],
      "metadata": {
        "colab": {
          "base_uri": "https://localhost:8080/"
        },
        "id": "T-AzhGr96Azg",
        "outputId": "e623d01b-5974-446f-b16e-5705d941b91d"
      },
      "execution_count": 30,
      "outputs": [
        {
          "output_type": "stream",
          "name": "stdout",
          "text": [
            "tf.Tensor([ 1  2  3  4  5  6  7  8  9 10], shape=(10,), dtype=int64) tf.Tensor([ 2  4  6  8 10 12 14 16 18 20], shape=(10,), dtype=int64)\n",
            "Shape of X : (10,),  y : (10,)\n",
            "()\n"
          ]
        }
      ]
    },
    {
      "cell_type": "markdown",
      "source": [
        "### Steps for modelling a neural network\n",
        "\n",
        "* Make the data into proper format after preprocessing and EDA\n",
        "* One can also pick a model prebuilt or formulate through scratch using the steps (1) below\n",
        "\n",
        "1. Create a model : Define input output and hidden layers\n",
        "2. Compile the model : Define loss function and a optimizer function and evaluation matrix\n",
        "3. Fitting a model : Letting our model try to generalize the predictions using X,y from training set\n",
        "4. Evaluate the model : Evaluate on the testing dataset\n",
        "5. Improve through Experimentation\n",
        "6. Save and load the finetuned model"
      ],
      "metadata": {
        "id": "kEIKnEfg_mAr"
      }
    },
    {
      "cell_type": "markdown",
      "source": [
        "# Note :\n",
        "\n",
        "This happens because model.fit() no longer automatically upscales inputs from shape (batch_size, ) to (batch_size, 1).\n",
        "\n",
        "This results in a shape error (remember one of most common errors in deep learning is input and output shapes)."
      ],
      "metadata": {
        "id": "5ZAIwm88htlU"
      }
    },
    {
      "cell_type": "code",
      "source": [
        "tf.random.set_seed(78)\n",
        "\n",
        "# Defining the model\n",
        "model= tf.keras.Sequential([\n",
        "    tf.keras.layers.Dense(1)# will throw error as it requires minimum 2 dimensional X and for our example we have 1 dimensional X\n",
        "\n",
        "])\n",
        "\n",
        "# Compiling\n",
        "model.compile(loss = tf.keras.losses.mae,\n",
        "              optimizer = tf.keras.optimizers.SGD(),\n",
        "              metrics = [\"mae\"])\n",
        "\n",
        "# Fitting the model\n",
        "# model.fit(X,y,epochs=5) # will throw error\n",
        "model.fit(tf.expand_dims(X,axis=-1),y,epochs=5)\n"
      ],
      "metadata": {
        "id": "xlLDI9w3-0LE",
        "colab": {
          "base_uri": "https://localhost:8080/"
        },
        "outputId": "b54fd37f-c465-438b-c35d-9fe6e0a10c62"
      },
      "execution_count": 31,
      "outputs": [
        {
          "output_type": "stream",
          "name": "stdout",
          "text": [
            "Epoch 1/5\n",
            "1/1 [==============================] - 0s 355ms/step - loss: 9.0584 - mae: 9.0584\n",
            "Epoch 2/5\n",
            "1/1 [==============================] - 0s 10ms/step - loss: 8.7459 - mae: 8.7459\n",
            "Epoch 3/5\n",
            "1/1 [==============================] - 0s 10ms/step - loss: 8.4334 - mae: 8.4334\n",
            "Epoch 4/5\n",
            "1/1 [==============================] - 0s 9ms/step - loss: 8.1209 - mae: 8.1209\n",
            "Epoch 5/5\n",
            "1/1 [==============================] - 0s 8ms/step - loss: 7.8084 - mae: 7.8084\n"
          ]
        },
        {
          "output_type": "execute_result",
          "data": {
            "text/plain": [
              "<keras.src.callbacks.History at 0x7e6f9e714610>"
            ]
          },
          "metadata": {},
          "execution_count": 31
        }
      ]
    },
    {
      "cell_type": "code",
      "source": [
        "y_pred = model.predict([12])"
      ],
      "metadata": {
        "colab": {
          "base_uri": "https://localhost:8080/"
        },
        "id": "t5Vc0QJZcah4",
        "outputId": "ee655cae-e2cd-4fc2-ad5d-2c1e7c23a222"
      },
      "execution_count": 32,
      "outputs": [
        {
          "output_type": "stream",
          "name": "stdout",
          "text": [
            "1/1 [==============================] - 0s 60ms/step\n"
          ]
        }
      ]
    },
    {
      "cell_type": "code",
      "source": [
        "print(y_pred) # as mae us 5.192 we can say that y lies\n",
        "print(y_pred-5.192,\"<y<\",y_pred+5.192)\n",
        "#Which is still off thus we need to train more and tune the hyperparameters"
      ],
      "metadata": {
        "colab": {
          "base_uri": "https://localhost:8080/"
        },
        "id": "RPNSNYkLjZWf",
        "outputId": "ec639ab3-0374-4f8a-8d56-9a9d773adbc1"
      },
      "execution_count": 33,
      "outputs": [
        {
          "output_type": "stream",
          "name": "stdout",
          "text": [
            "[[7.586276]]\n",
            "[[2.3942761]] <y< [[12.778276]]\n"
          ]
        }
      ]
    },
    {
      "cell_type": "markdown",
      "source": [
        "# Improving the model\n",
        "\n",
        "Can be done by updating or altering the steps taken while creating a model\n",
        "\n",
        "1. **Adding Layers to Model** : we can also change the number of neurons per layer , the activation function can also be altered to get the desired results\n",
        "\n",
        "2. **Compiling The Model** : here we might change the optimization function or its learning rate\n",
        "\n",
        "3. **Fitting The Model** We might fit the model with more iteration or epochs"
      ],
      "metadata": {
        "id": "n1jXi7GkH4WG"
      }
    },
    {
      "cell_type": "markdown",
      "source": [
        "# Lets try optimizing our last model\n",
        "\n",
        "M1 )=> Increasing the epochs"
      ],
      "metadata": {
        "id": "QhzoPjMJQh1q"
      }
    },
    {
      "cell_type": "code",
      "source": [
        "# Defining the model\n",
        "mod1= tf.keras.Sequential([\n",
        "    tf.keras.layers.Dense(1)# will throw error as it requires minimum 2 dimensional X and for our example we have 1 dimensional X\n",
        "\n",
        "])\n",
        "\n",
        "# Compiling\n",
        "mod1.compile(loss = tf.keras.losses.mae,\n",
        "              optimizer = tf.keras.optimizers.SGD(),\n",
        "              metrics = [\"mae\"])\n",
        "\n",
        "# Fitting the model\n",
        "# model.fit(X,y,epochs=5) # will throw error\n",
        "mod1.fit(tf.expand_dims(X,axis=-1),y,epochs=100)\n"
      ],
      "metadata": {
        "colab": {
          "base_uri": "https://localhost:8080/"
        },
        "id": "FLlueynxj3CB",
        "outputId": "c075ede7-a50f-483d-8515-891a1a75dcbb"
      },
      "execution_count": 34,
      "outputs": [
        {
          "output_type": "stream",
          "name": "stdout",
          "text": [
            "Epoch 1/100\n",
            "1/1 [==============================] - 0s 318ms/step - loss: 5.3637 - mae: 5.3637\n",
            "Epoch 2/100\n",
            "1/1 [==============================] - 0s 9ms/step - loss: 5.0512 - mae: 5.0512\n",
            "Epoch 3/100\n",
            "1/1 [==============================] - 0s 9ms/step - loss: 4.7387 - mae: 4.7387\n",
            "Epoch 4/100\n",
            "1/1 [==============================] - 0s 13ms/step - loss: 4.4262 - mae: 4.4262\n",
            "Epoch 5/100\n",
            "1/1 [==============================] - 0s 9ms/step - loss: 4.1137 - mae: 4.1137\n",
            "Epoch 6/100\n",
            "1/1 [==============================] - 0s 10ms/step - loss: 3.8012 - mae: 3.8012\n",
            "Epoch 7/100\n",
            "1/1 [==============================] - 0s 10ms/step - loss: 3.4887 - mae: 3.4887\n",
            "Epoch 8/100\n",
            "1/1 [==============================] - 0s 11ms/step - loss: 3.1762 - mae: 3.1762\n",
            "Epoch 9/100\n",
            "1/1 [==============================] - 0s 9ms/step - loss: 2.8637 - mae: 2.8637\n",
            "Epoch 10/100\n",
            "1/1 [==============================] - 0s 9ms/step - loss: 2.5512 - mae: 2.5512\n",
            "Epoch 11/100\n",
            "1/1 [==============================] - 0s 10ms/step - loss: 2.2387 - mae: 2.2387\n",
            "Epoch 12/100\n",
            "1/1 [==============================] - 0s 10ms/step - loss: 1.9262 - mae: 1.9262\n",
            "Epoch 13/100\n",
            "1/1 [==============================] - 0s 11ms/step - loss: 1.6137 - mae: 1.6137\n",
            "Epoch 14/100\n",
            "1/1 [==============================] - 0s 11ms/step - loss: 1.3012 - mae: 1.3012\n",
            "Epoch 15/100\n",
            "1/1 [==============================] - 0s 10ms/step - loss: 0.9887 - mae: 0.9887\n",
            "Epoch 16/100\n",
            "1/1 [==============================] - 0s 9ms/step - loss: 0.6762 - mae: 0.6762\n",
            "Epoch 17/100\n",
            "1/1 [==============================] - 0s 10ms/step - loss: 0.3767 - mae: 0.3767\n",
            "Epoch 18/100\n",
            "1/1 [==============================] - 0s 10ms/step - loss: 0.1143 - mae: 0.1143\n",
            "Epoch 19/100\n",
            "1/1 [==============================] - 0s 10ms/step - loss: 0.1763 - mae: 0.1763\n",
            "Epoch 20/100\n",
            "1/1 [==============================] - 0s 10ms/step - loss: 0.1685 - mae: 0.1685\n",
            "Epoch 21/100\n",
            "1/1 [==============================] - 0s 11ms/step - loss: 0.1393 - mae: 0.1393\n",
            "Epoch 22/100\n",
            "1/1 [==============================] - 0s 9ms/step - loss: 0.2003 - mae: 0.2003\n",
            "Epoch 23/100\n",
            "1/1 [==============================] - 0s 10ms/step - loss: 0.1023 - mae: 0.1023\n",
            "Epoch 24/100\n",
            "1/1 [==============================] - 0s 9ms/step - loss: 0.2321 - mae: 0.2321\n",
            "Epoch 25/100\n",
            "1/1 [==============================] - 0s 16ms/step - loss: 0.0677 - mae: 0.0677\n",
            "Epoch 26/100\n",
            "1/1 [==============================] - 0s 8ms/step - loss: 0.1647 - mae: 0.1647\n",
            "Epoch 27/100\n",
            "1/1 [==============================] - 0s 8ms/step - loss: 0.1403 - mae: 0.1403\n",
            "Epoch 28/100\n",
            "1/1 [==============================] - 0s 9ms/step - loss: 0.1965 - mae: 0.1965\n",
            "Epoch 29/100\n",
            "1/1 [==============================] - 0s 11ms/step - loss: 0.1033 - mae: 0.1033\n",
            "Epoch 30/100\n",
            "1/1 [==============================] - 0s 11ms/step - loss: 0.2283 - mae: 0.2283\n",
            "Epoch 31/100\n",
            "1/1 [==============================] - 0s 10ms/step - loss: 0.0667 - mae: 0.0667\n",
            "Epoch 32/100\n",
            "1/1 [==============================] - 0s 9ms/step - loss: 0.1609 - mae: 0.1609\n",
            "Epoch 33/100\n",
            "1/1 [==============================] - 0s 10ms/step - loss: 0.1413 - mae: 0.1413\n",
            "Epoch 34/100\n",
            "1/1 [==============================] - 0s 9ms/step - loss: 0.1927 - mae: 0.1927\n",
            "Epoch 35/100\n",
            "1/1 [==============================] - 0s 9ms/step - loss: 0.1043 - mae: 0.1043\n",
            "Epoch 36/100\n",
            "1/1 [==============================] - 0s 9ms/step - loss: 0.2245 - mae: 0.2245\n",
            "Epoch 37/100\n",
            "1/1 [==============================] - 0s 9ms/step - loss: 0.0673 - mae: 0.0673\n",
            "Epoch 38/100\n",
            "1/1 [==============================] - 0s 10ms/step - loss: 0.2576 - mae: 0.2576\n",
            "Epoch 39/100\n",
            "1/1 [==============================] - 0s 10ms/step - loss: 0.0571 - mae: 0.0571\n",
            "Epoch 40/100\n",
            "1/1 [==============================] - 0s 9ms/step - loss: 0.1681 - mae: 0.1681\n",
            "Epoch 41/100\n",
            "1/1 [==============================] - 0s 9ms/step - loss: 0.1293 - mae: 0.1293\n",
            "Epoch 42/100\n",
            "1/1 [==============================] - 0s 12ms/step - loss: 0.1999 - mae: 0.1999\n",
            "Epoch 43/100\n",
            "1/1 [==============================] - 0s 9ms/step - loss: 0.0923 - mae: 0.0923\n",
            "Epoch 44/100\n",
            "1/1 [==============================] - 0s 9ms/step - loss: 0.2322 - mae: 0.2322\n",
            "Epoch 45/100\n",
            "1/1 [==============================] - 0s 9ms/step - loss: 0.0793 - mae: 0.0793\n",
            "Epoch 46/100\n",
            "1/1 [==============================] - 0s 9ms/step - loss: 0.2444 - mae: 0.2444\n",
            "Epoch 47/100\n",
            "1/1 [==============================] - 0s 12ms/step - loss: 0.0663 - mae: 0.0663\n",
            "Epoch 48/100\n",
            "1/1 [==============================] - 0s 10ms/step - loss: 0.2566 - mae: 0.2566\n",
            "Epoch 49/100\n",
            "1/1 [==============================] - 0s 11ms/step - loss: 0.0545 - mae: 0.0545\n",
            "Epoch 50/100\n",
            "1/1 [==============================] - 0s 12ms/step - loss: 0.1655 - mae: 0.1655\n",
            "Epoch 51/100\n",
            "1/1 [==============================] - 0s 12ms/step - loss: 0.1283 - mae: 0.1283\n",
            "Epoch 52/100\n",
            "1/1 [==============================] - 0s 11ms/step - loss: 0.1973 - mae: 0.1973\n",
            "Epoch 53/100\n",
            "1/1 [==============================] - 0s 11ms/step - loss: 0.0913 - mae: 0.0913\n",
            "Epoch 54/100\n",
            "1/1 [==============================] - 0s 10ms/step - loss: 0.2312 - mae: 0.2312\n",
            "Epoch 55/100\n",
            "1/1 [==============================] - 0s 12ms/step - loss: 0.0783 - mae: 0.0783\n",
            "Epoch 56/100\n",
            "1/1 [==============================] - 0s 9ms/step - loss: 0.2434 - mae: 0.2434\n",
            "Epoch 57/100\n",
            "1/1 [==============================] - 0s 9ms/step - loss: 0.0653 - mae: 0.0653\n",
            "Epoch 58/100\n",
            "1/1 [==============================] - 0s 9ms/step - loss: 0.2556 - mae: 0.2556\n",
            "Epoch 59/100\n",
            "1/1 [==============================] - 0s 9ms/step - loss: 0.0523 - mae: 0.0523\n",
            "Epoch 60/100\n",
            "1/1 [==============================] - 0s 11ms/step - loss: 0.2678 - mae: 0.2678\n",
            "Epoch 61/100\n",
            "1/1 [==============================] - 0s 10ms/step - loss: 0.0447 - mae: 0.0447\n",
            "Epoch 62/100\n",
            "1/1 [==============================] - 0s 9ms/step - loss: 0.0875 - mae: 0.0875\n",
            "Epoch 63/100\n",
            "1/1 [==============================] - 0s 9ms/step - loss: 0.1803 - mae: 0.1803\n",
            "Epoch 64/100\n",
            "1/1 [==============================] - 0s 12ms/step - loss: 0.1469 - mae: 0.1469\n",
            "Epoch 65/100\n",
            "1/1 [==============================] - 0s 12ms/step - loss: 0.1433 - mae: 0.1433\n",
            "Epoch 66/100\n",
            "1/1 [==============================] - 0s 12ms/step - loss: 0.1788 - mae: 0.1788\n",
            "Epoch 67/100\n",
            "1/1 [==============================] - 0s 10ms/step - loss: 0.1303 - mae: 0.1303\n",
            "Epoch 68/100\n",
            "1/1 [==============================] - 0s 10ms/step - loss: 0.1910 - mae: 0.1910\n",
            "Epoch 69/100\n",
            "1/1 [==============================] - 0s 9ms/step - loss: 0.1173 - mae: 0.1173\n",
            "Epoch 70/100\n",
            "1/1 [==============================] - 0s 9ms/step - loss: 0.2032 - mae: 0.2032\n",
            "Epoch 71/100\n",
            "1/1 [==============================] - 0s 9ms/step - loss: 0.1043 - mae: 0.1043\n",
            "Epoch 72/100\n",
            "1/1 [==============================] - 0s 11ms/step - loss: 0.2154 - mae: 0.2154\n",
            "Epoch 73/100\n",
            "1/1 [==============================] - 0s 11ms/step - loss: 0.0913 - mae: 0.0913\n",
            "Epoch 74/100\n",
            "1/1 [==============================] - 0s 8ms/step - loss: 0.2276 - mae: 0.2276\n",
            "Epoch 75/100\n",
            "1/1 [==============================] - 0s 11ms/step - loss: 0.0783 - mae: 0.0783\n",
            "Epoch 76/100\n",
            "1/1 [==============================] - 0s 9ms/step - loss: 0.2398 - mae: 0.2398\n",
            "Epoch 77/100\n",
            "1/1 [==============================] - 0s 9ms/step - loss: 0.0653 - mae: 0.0653\n",
            "Epoch 78/100\n",
            "1/1 [==============================] - 0s 9ms/step - loss: 0.2520 - mae: 0.2520\n",
            "Epoch 79/100\n",
            "1/1 [==============================] - 0s 9ms/step - loss: 0.0523 - mae: 0.0523\n",
            "Epoch 80/100\n",
            "1/1 [==============================] - 0s 9ms/step - loss: 0.2642 - mae: 0.2642\n",
            "Epoch 81/100\n",
            "1/1 [==============================] - 0s 9ms/step - loss: 0.0397 - mae: 0.0397\n",
            "Epoch 82/100\n",
            "1/1 [==============================] - 0s 9ms/step - loss: 0.1688 - mae: 0.1688\n",
            "Epoch 83/100\n",
            "1/1 [==============================] - 0s 9ms/step - loss: 0.1383 - mae: 0.1383\n",
            "Epoch 84/100\n",
            "1/1 [==============================] - 0s 10ms/step - loss: 0.1810 - mae: 0.1810\n",
            "Epoch 85/100\n",
            "1/1 [==============================] - 0s 10ms/step - loss: 0.1253 - mae: 0.1253\n",
            "Epoch 86/100\n",
            "1/1 [==============================] - 0s 9ms/step - loss: 0.1932 - mae: 0.1932\n",
            "Epoch 87/100\n",
            "1/1 [==============================] - 0s 9ms/step - loss: 0.1123 - mae: 0.1123\n",
            "Epoch 88/100\n",
            "1/1 [==============================] - 0s 9ms/step - loss: 0.2054 - mae: 0.2054\n",
            "Epoch 89/100\n",
            "1/1 [==============================] - 0s 10ms/step - loss: 0.0993 - mae: 0.0993\n",
            "Epoch 90/100\n",
            "1/1 [==============================] - 0s 10ms/step - loss: 0.2176 - mae: 0.2176\n",
            "Epoch 91/100\n",
            "1/1 [==============================] - 0s 13ms/step - loss: 0.0863 - mae: 0.0863\n",
            "Epoch 92/100\n",
            "1/1 [==============================] - 0s 10ms/step - loss: 0.2298 - mae: 0.2298\n",
            "Epoch 93/100\n",
            "1/1 [==============================] - 0s 11ms/step - loss: 0.0733 - mae: 0.0733\n",
            "Epoch 94/100\n",
            "1/1 [==============================] - 0s 11ms/step - loss: 0.2420 - mae: 0.2420\n",
            "Epoch 95/100\n",
            "1/1 [==============================] - 0s 9ms/step - loss: 0.0603 - mae: 0.0603\n",
            "Epoch 96/100\n",
            "1/1 [==============================] - 0s 9ms/step - loss: 0.2542 - mae: 0.2542\n",
            "Epoch 97/100\n",
            "1/1 [==============================] - 0s 10ms/step - loss: 0.0473 - mae: 0.0473\n",
            "Epoch 98/100\n",
            "1/1 [==============================] - 0s 13ms/step - loss: 0.2664 - mae: 0.2664\n",
            "Epoch 99/100\n",
            "1/1 [==============================] - 0s 9ms/step - loss: 0.0343 - mae: 0.0343\n",
            "Epoch 100/100\n",
            "1/1 [==============================] - 0s 9ms/step - loss: 0.2786 - mae: 0.2786\n"
          ]
        },
        {
          "output_type": "execute_result",
          "data": {
            "text/plain": [
              "<keras.src.callbacks.History at 0x7e6f9e5ce950>"
            ]
          },
          "metadata": {},
          "execution_count": 34
        }
      ]
    },
    {
      "cell_type": "code",
      "source": [
        "y_pred = mod1.predict([12])\n",
        "print(f\"predicted:{y_pred} \\nactual :{12*2}\") # which is very close\n",
        "print(y_pred-0.2786,\"<y<\",y_pred+0.2786)"
      ],
      "metadata": {
        "colab": {
          "base_uri": "https://localhost:8080/"
        },
        "id": "jGgoUZoZQyyk",
        "outputId": "216ee660-f5c5-4d51-f7b1-11521b31c0e6"
      },
      "execution_count": 37,
      "outputs": [
        {
          "output_type": "stream",
          "name": "stdout",
          "text": [
            "1/1 [==============================] - 0s 54ms/step\n",
            "predicted:[[23.961384]] \n",
            "actual :24\n",
            "[[23.682783]] <y< [[24.239985]]\n"
          ]
        }
      ]
    },
    {
      "cell_type": "markdown",
      "source": [
        "2. mod2)=> We will add a layer and change the oprtimization function"
      ],
      "metadata": {
        "id": "hcuwihVWfs1A"
      }
    },
    {
      "cell_type": "code",
      "source": [
        "mod2 =  tf.keras.Sequential([\n",
        "    tf.keras.layers.Dense(100,activation=\"relu\"),\n",
        "    tf.keras.layers.Dense(1)\n",
        "])\n",
        "mod2.compile(loss=tf.keras.losses.mae,\n",
        "             optimizer = tf.keras.optimizers.Adam(lr=0.1199),\n",
        "             metrics = [\"mae\"])\n",
        "mod2.fit(tf.expand_dims(X,axis = -1),y,epochs=100)"
      ],
      "metadata": {
        "colab": {
          "base_uri": "https://localhost:8080/"
        },
        "id": "EVZpiHW8Rbyg",
        "outputId": "7220cc52-9016-45dc-ddd0-12cdd2f2efb8"
      },
      "execution_count": 63,
      "outputs": [
        {
          "output_type": "stream",
          "name": "stderr",
          "text": [
            "WARNING:absl:`lr` is deprecated in Keras optimizer, please use `learning_rate` or use the legacy optimizer, e.g.,tf.keras.optimizers.legacy.Adam.\n"
          ]
        },
        {
          "output_type": "stream",
          "name": "stdout",
          "text": [
            "Epoch 1/100\n",
            "1/1 [==============================] - 1s 593ms/step - loss: 9.2133 - mae: 9.2133\n",
            "Epoch 2/100\n",
            "1/1 [==============================] - 0s 11ms/step - loss: 9.1429 - mae: 9.1429\n",
            "Epoch 3/100\n",
            "1/1 [==============================] - 0s 11ms/step - loss: 9.0730 - mae: 9.0730\n",
            "Epoch 4/100\n",
            "1/1 [==============================] - 0s 11ms/step - loss: 9.0033 - mae: 9.0033\n",
            "Epoch 5/100\n",
            "1/1 [==============================] - 0s 10ms/step - loss: 8.9335 - mae: 8.9335\n",
            "Epoch 6/100\n",
            "1/1 [==============================] - 0s 11ms/step - loss: 8.8635 - mae: 8.8635\n",
            "Epoch 7/100\n",
            "1/1 [==============================] - 0s 11ms/step - loss: 8.7933 - mae: 8.7933\n",
            "Epoch 8/100\n",
            "1/1 [==============================] - 0s 9ms/step - loss: 8.7228 - mae: 8.7228\n",
            "Epoch 9/100\n",
            "1/1 [==============================] - 0s 10ms/step - loss: 8.6522 - mae: 8.6522\n",
            "Epoch 10/100\n",
            "1/1 [==============================] - 0s 12ms/step - loss: 8.5814 - mae: 8.5814\n",
            "Epoch 11/100\n",
            "1/1 [==============================] - 0s 10ms/step - loss: 8.5105 - mae: 8.5105\n",
            "Epoch 12/100\n",
            "1/1 [==============================] - 0s 13ms/step - loss: 8.4392 - mae: 8.4392\n",
            "Epoch 13/100\n",
            "1/1 [==============================] - 0s 10ms/step - loss: 8.3679 - mae: 8.3679\n",
            "Epoch 14/100\n",
            "1/1 [==============================] - 0s 10ms/step - loss: 8.2963 - mae: 8.2963\n",
            "Epoch 15/100\n",
            "1/1 [==============================] - 0s 10ms/step - loss: 8.2246 - mae: 8.2246\n",
            "Epoch 16/100\n",
            "1/1 [==============================] - 0s 9ms/step - loss: 8.1528 - mae: 8.1528\n",
            "Epoch 17/100\n",
            "1/1 [==============================] - 0s 10ms/step - loss: 8.0812 - mae: 8.0812\n",
            "Epoch 18/100\n",
            "1/1 [==============================] - 0s 9ms/step - loss: 8.0096 - mae: 8.0096\n",
            "Epoch 19/100\n",
            "1/1 [==============================] - 0s 10ms/step - loss: 7.9377 - mae: 7.9377\n",
            "Epoch 20/100\n",
            "1/1 [==============================] - 0s 14ms/step - loss: 7.8657 - mae: 7.8657\n",
            "Epoch 21/100\n",
            "1/1 [==============================] - 0s 11ms/step - loss: 7.7936 - mae: 7.7936\n",
            "Epoch 22/100\n",
            "1/1 [==============================] - 0s 13ms/step - loss: 7.7218 - mae: 7.7218\n",
            "Epoch 23/100\n",
            "1/1 [==============================] - 0s 9ms/step - loss: 7.6496 - mae: 7.6496\n",
            "Epoch 24/100\n",
            "1/1 [==============================] - 0s 10ms/step - loss: 7.5771 - mae: 7.5771\n",
            "Epoch 25/100\n",
            "1/1 [==============================] - 0s 11ms/step - loss: 7.5042 - mae: 7.5042\n",
            "Epoch 26/100\n",
            "1/1 [==============================] - 0s 11ms/step - loss: 7.4311 - mae: 7.4311\n",
            "Epoch 27/100\n",
            "1/1 [==============================] - 0s 12ms/step - loss: 7.3576 - mae: 7.3576\n",
            "Epoch 28/100\n",
            "1/1 [==============================] - 0s 11ms/step - loss: 7.2838 - mae: 7.2838\n",
            "Epoch 29/100\n",
            "1/1 [==============================] - 0s 10ms/step - loss: 7.2097 - mae: 7.2097\n",
            "Epoch 30/100\n",
            "1/1 [==============================] - 0s 12ms/step - loss: 7.1354 - mae: 7.1354\n",
            "Epoch 31/100\n",
            "1/1 [==============================] - 0s 10ms/step - loss: 7.0611 - mae: 7.0611\n",
            "Epoch 32/100\n",
            "1/1 [==============================] - 0s 10ms/step - loss: 6.9868 - mae: 6.9868\n",
            "Epoch 33/100\n",
            "1/1 [==============================] - 0s 11ms/step - loss: 6.9120 - mae: 6.9120\n",
            "Epoch 34/100\n",
            "1/1 [==============================] - 0s 9ms/step - loss: 6.8369 - mae: 6.8369\n",
            "Epoch 35/100\n",
            "1/1 [==============================] - 0s 10ms/step - loss: 6.7614 - mae: 6.7614\n",
            "Epoch 36/100\n",
            "1/1 [==============================] - 0s 10ms/step - loss: 6.6854 - mae: 6.6854\n",
            "Epoch 37/100\n",
            "1/1 [==============================] - 0s 10ms/step - loss: 6.6090 - mae: 6.6090\n",
            "Epoch 38/100\n",
            "1/1 [==============================] - 0s 10ms/step - loss: 6.5321 - mae: 6.5321\n",
            "Epoch 39/100\n",
            "1/1 [==============================] - 0s 10ms/step - loss: 6.4548 - mae: 6.4548\n",
            "Epoch 40/100\n",
            "1/1 [==============================] - 0s 9ms/step - loss: 6.3771 - mae: 6.3771\n",
            "Epoch 41/100\n",
            "1/1 [==============================] - 0s 10ms/step - loss: 6.2990 - mae: 6.2990\n",
            "Epoch 42/100\n",
            "1/1 [==============================] - 0s 10ms/step - loss: 6.2205 - mae: 6.2205\n",
            "Epoch 43/100\n",
            "1/1 [==============================] - 0s 11ms/step - loss: 6.1415 - mae: 6.1415\n",
            "Epoch 44/100\n",
            "1/1 [==============================] - 0s 10ms/step - loss: 6.0622 - mae: 6.0622\n",
            "Epoch 45/100\n",
            "1/1 [==============================] - 0s 10ms/step - loss: 5.9825 - mae: 5.9825\n",
            "Epoch 46/100\n",
            "1/1 [==============================] - 0s 12ms/step - loss: 5.9024 - mae: 5.9024\n",
            "Epoch 47/100\n",
            "1/1 [==============================] - 0s 11ms/step - loss: 5.8219 - mae: 5.8219\n",
            "Epoch 48/100\n",
            "1/1 [==============================] - 0s 10ms/step - loss: 5.7407 - mae: 5.7407\n",
            "Epoch 49/100\n",
            "1/1 [==============================] - 0s 10ms/step - loss: 5.6589 - mae: 5.6589\n",
            "Epoch 50/100\n",
            "1/1 [==============================] - 0s 11ms/step - loss: 5.5764 - mae: 5.5764\n",
            "Epoch 51/100\n",
            "1/1 [==============================] - 0s 10ms/step - loss: 5.4933 - mae: 5.4933\n",
            "Epoch 52/100\n",
            "1/1 [==============================] - 0s 10ms/step - loss: 5.4095 - mae: 5.4095\n",
            "Epoch 53/100\n",
            "1/1 [==============================] - 0s 10ms/step - loss: 5.3251 - mae: 5.3251\n",
            "Epoch 54/100\n",
            "1/1 [==============================] - 0s 10ms/step - loss: 5.2400 - mae: 5.2400\n",
            "Epoch 55/100\n",
            "1/1 [==============================] - 0s 10ms/step - loss: 5.1542 - mae: 5.1542\n",
            "Epoch 56/100\n",
            "1/1 [==============================] - 0s 11ms/step - loss: 5.0677 - mae: 5.0677\n",
            "Epoch 57/100\n",
            "1/1 [==============================] - 0s 10ms/step - loss: 4.9806 - mae: 4.9806\n",
            "Epoch 58/100\n",
            "1/1 [==============================] - 0s 9ms/step - loss: 4.8927 - mae: 4.8927\n",
            "Epoch 59/100\n",
            "1/1 [==============================] - 0s 13ms/step - loss: 4.8041 - mae: 4.8041\n",
            "Epoch 60/100\n",
            "1/1 [==============================] - 0s 10ms/step - loss: 4.7148 - mae: 4.7148\n",
            "Epoch 61/100\n",
            "1/1 [==============================] - 0s 10ms/step - loss: 4.6249 - mae: 4.6249\n",
            "Epoch 62/100\n",
            "1/1 [==============================] - 0s 11ms/step - loss: 4.5341 - mae: 4.5341\n",
            "Epoch 63/100\n",
            "1/1 [==============================] - 0s 11ms/step - loss: 4.4427 - mae: 4.4427\n",
            "Epoch 64/100\n",
            "1/1 [==============================] - 0s 11ms/step - loss: 4.3505 - mae: 4.3505\n",
            "Epoch 65/100\n",
            "1/1 [==============================] - 0s 10ms/step - loss: 4.2576 - mae: 4.2576\n",
            "Epoch 66/100\n",
            "1/1 [==============================] - 0s 11ms/step - loss: 4.1639 - mae: 4.1639\n",
            "Epoch 67/100\n",
            "1/1 [==============================] - 0s 10ms/step - loss: 4.0694 - mae: 4.0694\n",
            "Epoch 68/100\n",
            "1/1 [==============================] - 0s 10ms/step - loss: 3.9742 - mae: 3.9742\n",
            "Epoch 69/100\n",
            "1/1 [==============================] - 0s 10ms/step - loss: 3.8783 - mae: 3.8783\n",
            "Epoch 70/100\n",
            "1/1 [==============================] - 0s 16ms/step - loss: 3.7815 - mae: 3.7815\n",
            "Epoch 71/100\n",
            "1/1 [==============================] - 0s 12ms/step - loss: 3.6840 - mae: 3.6840\n",
            "Epoch 72/100\n",
            "1/1 [==============================] - 0s 13ms/step - loss: 3.5857 - mae: 3.5857\n",
            "Epoch 73/100\n",
            "1/1 [==============================] - 0s 10ms/step - loss: 3.4867 - mae: 3.4867\n",
            "Epoch 74/100\n",
            "1/1 [==============================] - 0s 10ms/step - loss: 3.3868 - mae: 3.3868\n",
            "Epoch 75/100\n",
            "1/1 [==============================] - 0s 10ms/step - loss: 3.2861 - mae: 3.2861\n",
            "Epoch 76/100\n",
            "1/1 [==============================] - 0s 11ms/step - loss: 3.1846 - mae: 3.1846\n",
            "Epoch 77/100\n",
            "1/1 [==============================] - 0s 10ms/step - loss: 3.0824 - mae: 3.0824\n",
            "Epoch 78/100\n",
            "1/1 [==============================] - 0s 10ms/step - loss: 2.9793 - mae: 2.9793\n",
            "Epoch 79/100\n",
            "1/1 [==============================] - 0s 11ms/step - loss: 2.8798 - mae: 2.8798\n",
            "Epoch 80/100\n",
            "1/1 [==============================] - 0s 12ms/step - loss: 2.7813 - mae: 2.7813\n",
            "Epoch 81/100\n",
            "1/1 [==============================] - 0s 11ms/step - loss: 2.6825 - mae: 2.6825\n",
            "Epoch 82/100\n",
            "1/1 [==============================] - 0s 10ms/step - loss: 2.5832 - mae: 2.5832\n",
            "Epoch 83/100\n",
            "1/1 [==============================] - 0s 9ms/step - loss: 2.4835 - mae: 2.4835\n",
            "Epoch 84/100\n",
            "1/1 [==============================] - 0s 9ms/step - loss: 2.3833 - mae: 2.3833\n",
            "Epoch 85/100\n",
            "1/1 [==============================] - 0s 9ms/step - loss: 2.2826 - mae: 2.2826\n",
            "Epoch 86/100\n",
            "1/1 [==============================] - 0s 14ms/step - loss: 2.1813 - mae: 2.1813\n",
            "Epoch 87/100\n",
            "1/1 [==============================] - 0s 10ms/step - loss: 2.0794 - mae: 2.0794\n",
            "Epoch 88/100\n",
            "1/1 [==============================] - 0s 10ms/step - loss: 1.9769 - mae: 1.9769\n",
            "Epoch 89/100\n",
            "1/1 [==============================] - 0s 10ms/step - loss: 1.8738 - mae: 1.8738\n",
            "Epoch 90/100\n",
            "1/1 [==============================] - 0s 10ms/step - loss: 1.7699 - mae: 1.7699\n",
            "Epoch 91/100\n",
            "1/1 [==============================] - 0s 9ms/step - loss: 1.6655 - mae: 1.6655\n",
            "Epoch 92/100\n",
            "1/1 [==============================] - 0s 9ms/step - loss: 1.5602 - mae: 1.5602\n",
            "Epoch 93/100\n",
            "1/1 [==============================] - 0s 10ms/step - loss: 1.4617 - mae: 1.4617\n",
            "Epoch 94/100\n",
            "1/1 [==============================] - 0s 11ms/step - loss: 1.3656 - mae: 1.3656\n",
            "Epoch 95/100\n",
            "1/1 [==============================] - 0s 10ms/step - loss: 1.2695 - mae: 1.2695\n",
            "Epoch 96/100\n",
            "1/1 [==============================] - 0s 10ms/step - loss: 1.1733 - mae: 1.1733\n",
            "Epoch 97/100\n",
            "1/1 [==============================] - 0s 10ms/step - loss: 1.0770 - mae: 1.0770\n",
            "Epoch 98/100\n",
            "1/1 [==============================] - 0s 9ms/step - loss: 0.9805 - mae: 0.9805\n",
            "Epoch 99/100\n",
            "1/1 [==============================] - 0s 9ms/step - loss: 0.8911 - mae: 0.8911\n",
            "Epoch 100/100\n",
            "1/1 [==============================] - 0s 9ms/step - loss: 0.8084 - mae: 0.8084\n"
          ]
        },
        {
          "output_type": "execute_result",
          "data": {
            "text/plain": [
              "<keras.src.callbacks.History at 0x7e6f89547970>"
            ]
          },
          "metadata": {},
          "execution_count": 63
        }
      ]
    },
    {
      "cell_type": "code",
      "source": [
        "y_pred = mod2.predict([12])\n",
        "print(f\"predicted:{y_pred} \\nactual :{12*2}\") # which is very close comparatively to the base model\n",
        "print(y_pred-0.8084,\"<y<\",y_pred+0.8084)"
      ],
      "metadata": {
        "colab": {
          "base_uri": "https://localhost:8080/"
        },
        "id": "bGlI7sdmdKRd",
        "outputId": "7e471579-f285-4e82-c365-2d98060b9d21"
      },
      "execution_count": 66,
      "outputs": [
        {
          "output_type": "stream",
          "name": "stdout",
          "text": [
            "1/1 [==============================] - 0s 58ms/step\n",
            "predicted:[[21.861393]] \n",
            "actual :24\n",
            "[[21.052994]] <y< [[22.669792]]\n"
          ]
        }
      ]
    },
    {
      "cell_type": "code",
      "source": [],
      "metadata": {
        "id": "ZPNmneDJfbOA"
      },
      "execution_count": null,
      "outputs": []
    }
  ]
}