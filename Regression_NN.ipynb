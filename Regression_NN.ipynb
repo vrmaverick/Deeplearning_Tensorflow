{
  "nbformat": 4,
  "nbformat_minor": 0,
  "metadata": {
    "colab": {
      "provenance": []
    },
    "kernelspec": {
      "name": "python3",
      "display_name": "Python 3"
    },
    "language_info": {
      "name": "python"
    }
  },
  "cells": [
    {
      "cell_type": "markdown",
      "source": [
        "We Will be implementing Regression using Neural Network , i.e Predicting values of dependent variable using independent input features"
      ],
      "metadata": {
        "id": "Ft9pH20qLrna"
      }
    },
    {
      "cell_type": "code",
      "execution_count": 2,
      "metadata": {
        "colab": {
          "base_uri": "https://localhost:8080/",
          "height": 0
        },
        "id": "FyVfcf6q_-Oo",
        "outputId": "cd51a29f-2305-4556-8fc1-4d9bb4638d6f"
      },
      "outputs": [
        {
          "output_type": "stream",
          "name": "stdout",
          "text": [
            "2.15.0\n"
          ]
        }
      ],
      "source": [
        "import tensorflow as tf\n",
        "print(tf.__version__)"
      ]
    },
    {
      "cell_type": "code",
      "source": [
        "import numpy as np\n",
        "import matplotlib.pyplot as plt"
      ],
      "metadata": {
        "id": "3wvuEUYeMINB"
      },
      "execution_count": 3,
      "outputs": []
    },
    {
      "cell_type": "code",
      "source": [
        "# Basic Regression Formulation using Numpy\n",
        "\n",
        "a = np.array([1,2,3,4,5,6,7,8,9,10])\n",
        "b= np.array([2,4,6,8,10,12,14,16,18,20])\n",
        "\n",
        "# For accessing we use x[0].ndim we gwt no dimensions as it is an array of scalar values and no dimensions\n",
        "plt.scatter(a,b)\n",
        "plt.show()"
      ],
      "metadata": {
        "colab": {
          "base_uri": "https://localhost:8080/",
          "height": 430
        },
        "id": "-OUdSaYFMcGD",
        "outputId": "1e6520be-b14f-49e0-e713-3185e2165d1f"
      },
      "execution_count": 4,
      "outputs": [
        {
          "output_type": "display_data",
          "data": {
            "text/plain": [
              "<Figure size 640x480 with 1 Axes>"
            ],
            "image/png": "[encoded data removed]"
          },
          "metadata": {}
        }
      ]
    },
    {
      "cell_type": "code",
      "source": [
        "a.shape()"
      ],
      "metadata": {
        "colab": {
          "base_uri": "https://localhost:8080/",
          "height": 146
        },
        "id": "dzu3tdwh-8XN",
        "outputId": "97e557fd-88bf-4e48-8e01-cdd2f83755ed"
      },
      "execution_count": 8,
      "outputs": [
        {
          "output_type": "error",
          "ename": "TypeError",
          "evalue": "'tuple' object is not callable",
          "traceback": [
            "\u001b[0;31m---------------------------------------------------------------------------\u001b[0m",
            "\u001b[0;31mTypeError\u001b[0m                                 Traceback (most recent call last)",
            "\u001b[0;32m<ipython-input-8-2955bfce3442>\u001b[0m in \u001b[0;36m<cell line: 1>\u001b[0;34m()\u001b[0m\n\u001b[0;32m----> 1\u001b[0;31m \u001b[0ma\u001b[0m\u001b[0;34m.\u001b[0m\u001b[0mshape\u001b[0m\u001b[0;34m(\u001b[0m\u001b[0;34m)\u001b[0m\u001b[0;34m\u001b[0m\u001b[0;34m\u001b[0m\u001b[0m\n\u001b[0m",
            "\u001b[0;31mTypeError\u001b[0m: 'tuple' object is not callable"
          ]
        }
      ]
    },
    {
      "cell_type": "code",
      "source": [
        "# Using Tensorflow or tensors\n",
        "\n",
        "House_features = tf.constant([\"Bedrooms\",\"Bathrooms\",\"Area\"])\n",
        "Price = tf.constant([74000])\n",
        "\n",
        "print(House_features,Price)\n",
        "print(f\"Input Features Shape : {House_features.shape}\")\n",
        "print(f\"Output Shape : {Price.shape}\")"
      ],
      "metadata": {
        "colab": {
          "base_uri": "https://localhost:8080/",
          "height": 0
        },
        "id": "8A5S0rOJNF2s",
        "outputId": "103d9e4a-1de3-4f91-97da-1cec9e755db9"
      },
      "execution_count": 5,
      "outputs": [
        {
          "output_type": "stream",
          "name": "stdout",
          "text": [
            "tf.Tensor([b'Bedrooms' b'Bathrooms' b'Area'], shape=(3,), dtype=string) tf.Tensor([74000], shape=(1,), dtype=int32)\n",
            "Input Features Shape : (3,)\n",
            "Output Shape : (1,)\n"
          ]
        }
      ]
    },
    {
      "cell_type": "markdown",
      "source": [
        "# Converting numpy arrays to tensors\n",
        "\n",
        "---\n",
        "\n"
      ],
      "metadata": {
        "id": "1lucc7uB51cT"
      }
    },
    {
      "cell_type": "code",
      "source": [
        "X = tf.constant(a)\n",
        "y = tf.constant(b)"
      ],
      "metadata": {
        "id": "W6FAhcNYNpnf"
      },
      "execution_count": 6,
      "outputs": []
    },
    {
      "cell_type": "code",
      "source": [
        "print(X,y)\n",
        "print(f\"Shape of X : {X.shape},  y : {y.shape}\")\n",
        "#But it is a regression probelm so we need X[] scalar value to predict a scalar value y[] respectively\n",
        "print(X[1].shape) # void means 0 dimensions or scalar value"
      ],
      "metadata": {
        "colab": {
          "base_uri": "https://localhost:8080/",
          "height": 0
        },
        "id": "T-AzhGr96Azg",
        "outputId": "1dc272ff-6235-4ad5-efd7-47417f4cda1f"
      },
      "execution_count": 10,
      "outputs": [
        {
          "output_type": "stream",
          "name": "stdout",
          "text": [
            "tf.Tensor([ 1  2  3  4  5  6  7  8  9 10], shape=(10,), dtype=int64) tf.Tensor([ 2  4  6  8 10 12 14 16 18 20], shape=(10,), dtype=int64)\n",
            "Shape of X : (10,),  y : (10,)\n",
            "()\n"
          ]
        }
      ]
    },
    {
      "cell_type": "markdown",
      "source": [
        "### Steps for modelling a neural network\n",
        "\n",
        "* Make the data into proper format after preprocessing and EDA\n",
        "* One can also pick a model prebuilt or formulate through scratch using the steps (1) below\n",
        "\n",
        "1. Create a model : Define input output and hidden layers\n",
        "2. Compile the model : Define loss function and a optimizer function and evaluation matrix\n",
        "3. Fitting a model : Letting our model try to generalize the predictions using X,y from training set\n",
        "4. Evaluate the model : Evaluate on the testing dataset\n",
        "5. Improve through Experimentation\n",
        "6. Save and load the finetuned model"
      ],
      "metadata": {
        "id": "kEIKnEfg_mAr"
      }
    },
    {
      "cell_type": "code",
      "source": [],
      "metadata": {
        "id": "xlLDI9w3-0LE"
      },
      "execution_count": null,
      "outputs": []
    }
  ]
}